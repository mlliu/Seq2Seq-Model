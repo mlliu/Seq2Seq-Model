{
 "cells": [
  {
   "cell_type": "markdown",
   "metadata": {
    "id": "eLm_JxCxrkIE",
    "pycharm": {
     "name": "#%% md\n"
    }
   },
   "source": [
    "# Assignment 1\n",
    "\n",
    "In the first assignment, you will implement some of the algorithms you have learnt in the first two weeks of lectures: n-gram language models, and syntactic parsing using the CYK algorithm. \n",
    "\n",
    "# Setup\n",
    "\n",
    "For this and other assignments, we will be using Google Colab, for both code as well as descriptive questions. Your task is to finish all the questions in the Colab notebook and then upload a PDF version of the notebook, and a viewable link on Gradescope.\n",
    "\n",
    "### Google colaboratory\n",
    "\n",
    "Before getting started, get familiar with google colaboratory:\n",
    "https://colab.research.google.com/notebooks/welcome.ipynb\n",
    "\n",
    "This is a neat python environment that works in the cloud and does not require you to\n",
    "set up anything on your personal machine\n",
    "(it also has some built-in IDE features that make writing code easier).\n",
    "Moreover, it allows you to copy any existing collaboratory file, alter it and share\n",
    "with other people.\n",
    "\n",
    "### Submission\n",
    "\n",
    "Before you start working on this homework do the following steps:\n",
    "\n",
    "1. Press __File > Save a copy in Drive...__ tab. This will allow you to have your own copy and change it.\n",
    "2. Follow all the steps in this collaboratory file and write / change / uncomment code as necessary.\n",
    "3. Do not forget to occasionally press __File > Save__ tab to save your progress.\n",
    "4. After all the changes are done and progress is saved press __Share__ button (top right corner of the page), press __get shareable link__ and make sure you have the option __Anyone with the link can view__ selected. Copy the link and paste it in the box below.\n",
    "5. After completing the notebook, press __File > Download .ipynb__ to download a local copy on your computer, and then upload the file to Gradescope.\n",
    "\n",
    "\n",
    "__Paste your notebook link in the box below.__ _(0 points)_"
   ]
  },
  {
   "cell_type": "markdown",
   "metadata": {
    "id": "inEvaul0l3GR"
   },
   "source": [
    "\n",
    "\n",
    "```\n",
    "# Paste your Colab notebook link here\n",
    "```\n",
    "https://colab.research.google.com/drive/1DsHSWALT7cbvDwyNm38dFXZnNv92H1JQ#scrollTo=inEvaul0l3GR\n",
    "\n"
   ]
  },
  {
   "cell_type": "code",
   "execution_count": 1,
   "metadata": {
    "colab": {
     "base_uri": "https://localhost:8080/"
    },
    "id": "51H53CHOl3GR",
    "outputId": "a1e34053-dc02-4e75-8853-2c3d64f4390a",
    "scrolled": true
   },
   "outputs": [
    {
     "name": "stdout",
     "output_type": "stream",
     "text": [
      "--2022-09-22 08:58:33--  https://github.com/jhu-intro-hlt/jhu-intro-hlt.github.io/raw/master/assignments/hw1-files/student/required_files.zip\n",
      "Resolving github.com (github.com)... 140.82.112.3\n",
      "Connecting to github.com (github.com)|140.82.112.3|:443... connected.\n",
      "HTTP request sent, awaiting response... 302 Found\n",
      "Location: https://raw.githubusercontent.com/jhu-intro-hlt/jhu-intro-hlt.github.io/master/assignments/hw1-files/student/required_files.zip [following]\n",
      "--2022-09-22 08:58:33--  https://raw.githubusercontent.com/jhu-intro-hlt/jhu-intro-hlt.github.io/master/assignments/hw1-files/student/required_files.zip\n",
      "Resolving raw.githubusercontent.com (raw.githubusercontent.com)... 185.199.108.133, 185.199.110.133, 185.199.109.133, ...\n",
      "Connecting to raw.githubusercontent.com (raw.githubusercontent.com)|185.199.108.133|:443... connected.\n",
      "HTTP request sent, awaiting response... 200 OK\n",
      "Length: 8207 (8.0K) [application/zip]\n",
      "Saving to: ‘required_files.zip’\n",
      "\n",
      "required_files.zip  100%[===================>]   8.01K  --.-KB/s    in 0s      \n",
      "\n",
      "2022-09-22 08:58:33 (43.2 MB/s) - ‘required_files.zip’ saved [8207/8207]\n",
      "\n",
      "Archive:  required_files.zip\n",
      "  inflating: requirements.txt        \n",
      "  inflating: tests/cfg-iscnf.py      \n",
      "  inflating: tests/cfg-tocnf.py      \n",
      "  inflating: tests/cyk-impl.py       \n",
      "  inflating: tests/ngramlm-corpus-size.py  \n",
      "  inflating: tests/ngramlm-empirical-distribution.py  \n",
      "  inflating: tests/ngramlm-impl.py   \n",
      "  inflating: tests/ngramlm-improvement-impl.py  \n",
      "  inflating: tests/ngramlm-laplace-smoothing-impl.py  \n",
      "  inflating: tests/ngramlm-laplace-smoothing-perp.py  \n",
      "  inflating: tests/ngramlm-perp-impl.py  \n",
      "  inflating: tests/ngramlm-quad-perp-on-training.py  \n",
      "  inflating: tests/ngramlm-tri-perp-on-dev.py  \n",
      "  inflating: tests/ngramlm-tri-perp-on-training.py  \n",
      "  inflating: tests/ngramlm-vocab-size.py  \n",
      "  inflating: tests/warmup-ngram.py   \n",
      "Collecting datascience\n",
      "  Downloading datascience-0.17.5.tar.gz (727 kB)\n",
      "\u001b[K     |████████████████████████████████| 727 kB 4.4 MB/s eta 0:00:01\n",
      "\u001b[?25hRequirement already satisfied: jupyter_client in /usr/local/anaconda3/lib/python3.8/site-packages (from -r requirements.txt (line 2)) (6.1.12)\n",
      "Requirement already satisfied: ipykernel in /usr/local/anaconda3/lib/python3.8/site-packages (from -r requirements.txt (line 3)) (5.3.4)\n",
      "Requirement already satisfied: matplotlib in /usr/local/anaconda3/lib/python3.8/site-packages (from -r requirements.txt (line 4)) (3.3.4)\n",
      "Requirement already satisfied: pandas in /usr/local/anaconda3/lib/python3.8/site-packages (from -r requirements.txt (line 5)) (1.2.4)\n",
      "Requirement already satisfied: ipywidgets in /usr/local/anaconda3/lib/python3.8/site-packages (from -r requirements.txt (line 6)) (7.6.3)\n",
      "Requirement already satisfied: scipy in /usr/local/anaconda3/lib/python3.8/site-packages (from -r requirements.txt (line 7)) (1.6.2)\n",
      "Requirement already satisfied: seaborn in /usr/local/anaconda3/lib/python3.8/site-packages (from -r requirements.txt (line 8)) (0.11.1)\n",
      "Collecting sklearn\n",
      "  Downloading sklearn-0.0.tar.gz (1.1 kB)\n",
      "Requirement already satisfied: jinja2 in /usr/local/anaconda3/lib/python3.8/site-packages (from -r requirements.txt (line 10)) (2.11.3)\n",
      "Requirement already satisfied: nbconvert in /usr/local/anaconda3/lib/python3.8/site-packages (from -r requirements.txt (line 11)) (6.0.7)\n",
      "Requirement already satisfied: nbformat in /usr/local/anaconda3/lib/python3.8/site-packages (from -r requirements.txt (line 12)) (5.1.3)\n",
      "Collecting dill\n",
      "  Downloading dill-0.3.5.1-py2.py3-none-any.whl (95 kB)\n",
      "\u001b[K     |████████████████████████████████| 95 kB 5.7 MB/s eta 0:00:01\n",
      "\u001b[?25hRequirement already satisfied: numpy in /usr/local/anaconda3/lib/python3.8/site-packages (from -r requirements.txt (line 14)) (1.20.1)\n",
      "Collecting otter-grader==4.0.1\n",
      "  Downloading otter_grader-4.0.1-py3-none-any.whl (166 kB)\n",
      "\u001b[K     |████████████████████████████████| 166 kB 27.4 MB/s eta 0:00:01\n",
      "\u001b[?25hCollecting pdfkit\n",
      "  Downloading pdfkit-1.0.0-py3-none-any.whl (12 kB)\n",
      "Collecting PyPDF2\n",
      "  Downloading PyPDF2-2.10.9-py3-none-any.whl (218 kB)\n",
      "\u001b[K     |████████████████████████████████| 218 kB 21.5 MB/s eta 0:00:01\n",
      "\u001b[?25hRequirement already satisfied: nltk in /usr/local/anaconda3/lib/python3.8/site-packages (from -r requirements.txt (line 36)) (3.6.1)\n",
      "Requirement already satisfied: jupyter in /usr/local/anaconda3/lib/python3.8/site-packages (from -r requirements.txt (line 39)) (1.0.0)\n",
      "Collecting overrides===6.2.0\n",
      "  Downloading overrides-6.2.0-py3-none-any.whl (17 kB)\n",
      "Requirement already satisfied: six in /usr/local/anaconda3/lib/python3.8/site-packages (from otter-grader==4.0.1->-r requirements.txt (line 15)) (1.15.0)\n",
      "Requirement already satisfied: wrapt in /usr/local/anaconda3/lib/python3.8/site-packages (from otter-grader==4.0.1->-r requirements.txt (line 15)) (1.12.1)\n",
      "Collecting gspread\n",
      "  Downloading gspread-5.5.0-py3-none-any.whl (38 kB)\n",
      "Requirement already satisfied: click in /usr/local/anaconda3/lib/python3.8/site-packages (from otter-grader==4.0.1->-r requirements.txt (line 15)) (7.1.2)\n",
      "Requirement already satisfied: requests in /usr/local/anaconda3/lib/python3.8/site-packages (from otter-grader==4.0.1->-r requirements.txt (line 15)) (2.25.1)\n",
      "Requirement already satisfied: google-auth-oauthlib in /usr/local/anaconda3/lib/python3.8/site-packages (from otter-grader==4.0.1->-r requirements.txt (line 15)) (0.4.6)\n",
      "Collecting google-api-python-client\n",
      "  Downloading google_api_python_client-2.62.0-py2.py3-none-any.whl (9.3 MB)\n",
      "\u001b[K     |████████████████████████████████| 9.3 MB 34.3 MB/s eta 0:00:01\n",
      "\u001b[?25hCollecting fica>=0.2.0\n",
      "  Downloading fica-0.2.0-py3-none-any.whl (11 kB)\n",
      "Collecting python-on-whales\n",
      "  Downloading python_on_whales-0.52.0-py3-none-any.whl (97 kB)\n",
      "\u001b[K     |████████████████████████████████| 97 kB 17.5 MB/s eta 0:00:01\n",
      "\u001b[?25hCollecting jupytext\n",
      "  Downloading jupytext-1.14.1-py3-none-any.whl (297 kB)\n",
      "\u001b[K     |████████████████████████████████| 297 kB 10.9 MB/s eta 0:00:01\n",
      "\u001b[?25hRequirement already satisfied: PyYAML in /usr/local/anaconda3/lib/python3.8/site-packages (from otter-grader==4.0.1->-r requirements.txt (line 15)) (5.4.1)\n",
      "Requirement already satisfied: sphinx in /usr/local/anaconda3/lib/python3.8/site-packages (from fica>=0.2.0->otter-grader==4.0.1->-r requirements.txt (line 15)) (4.0.1)\n",
      "Requirement already satisfied: docutils in /usr/local/anaconda3/lib/python3.8/site-packages (from fica>=0.2.0->otter-grader==4.0.1->-r requirements.txt (line 15)) (0.17)\n",
      "Collecting folium>=0.9.1\n",
      "  Downloading folium-0.12.1.post1-py2.py3-none-any.whl (95 kB)\n",
      "\u001b[K     |████████████████████████████████| 95 kB 8.1 MB/s  eta 0:00:01\n",
      "\u001b[?25hRequirement already satisfied: setuptools in /usr/local/anaconda3/lib/python3.8/site-packages (from datascience->-r requirements.txt (line 1)) (52.0.0.post20210125)\n",
      "Requirement already satisfied: ipython in /usr/local/anaconda3/lib/python3.8/site-packages (from datascience->-r requirements.txt (line 1)) (7.22.0)\n",
      "Collecting plotly\n",
      "  Downloading plotly-5.10.0-py2.py3-none-any.whl (15.2 MB)\n",
      "\u001b[K     |████████████████████████████████| 15.2 MB 25.7 MB/s eta 0:00:01\n",
      "\u001b[?25hCollecting branca\n",
      "  Downloading branca-0.5.0-py3-none-any.whl (24 kB)\n",
      "Requirement already satisfied: pillow>=6.2.0 in /usr/local/anaconda3/lib/python3.8/site-packages (from matplotlib->-r requirements.txt (line 4)) (8.2.0)\n",
      "Requirement already satisfied: pyparsing!=2.0.4,!=2.1.2,!=2.1.6,>=2.0.3 in /usr/local/anaconda3/lib/python3.8/site-packages (from matplotlib->-r requirements.txt (line 4)) (2.4.7)\n",
      "Requirement already satisfied: cycler>=0.10 in /usr/local/anaconda3/lib/python3.8/site-packages (from matplotlib->-r requirements.txt (line 4)) (0.10.0)\n",
      "Requirement already satisfied: python-dateutil>=2.1 in /usr/local/anaconda3/lib/python3.8/site-packages (from matplotlib->-r requirements.txt (line 4)) (2.8.1)\n",
      "Requirement already satisfied: kiwisolver>=1.0.1 in /usr/local/anaconda3/lib/python3.8/site-packages (from matplotlib->-r requirements.txt (line 4)) (1.3.1)\n",
      "Requirement already satisfied: MarkupSafe>=0.23 in /usr/local/anaconda3/lib/python3.8/site-packages (from jinja2->-r requirements.txt (line 10)) (1.1.1)\n",
      "Requirement already satisfied: traitlets>=4.1.0 in /usr/local/anaconda3/lib/python3.8/site-packages (from ipykernel->-r requirements.txt (line 3)) (5.0.5)\n",
      "Requirement already satisfied: tornado>=4.2 in /usr/local/anaconda3/lib/python3.8/site-packages (from ipykernel->-r requirements.txt (line 3)) (6.1)\n",
      "Requirement already satisfied: appnope in /usr/local/anaconda3/lib/python3.8/site-packages (from ipykernel->-r requirements.txt (line 3)) (0.1.2)\n"
     ]
    },
    {
     "name": "stdout",
     "output_type": "stream",
     "text": [
      "Requirement already satisfied: decorator in /usr/local/anaconda3/lib/python3.8/site-packages (from ipython->datascience->-r requirements.txt (line 1)) (5.0.6)\n",
      "Requirement already satisfied: jedi>=0.16 in /usr/local/anaconda3/lib/python3.8/site-packages (from ipython->datascience->-r requirements.txt (line 1)) (0.17.2)\n",
      "Requirement already satisfied: backcall in /usr/local/anaconda3/lib/python3.8/site-packages (from ipython->datascience->-r requirements.txt (line 1)) (0.2.0)\n",
      "Requirement already satisfied: pickleshare in /usr/local/anaconda3/lib/python3.8/site-packages (from ipython->datascience->-r requirements.txt (line 1)) (0.7.5)\n",
      "Requirement already satisfied: prompt-toolkit!=3.0.0,!=3.0.1,<3.1.0,>=2.0.0 in /usr/local/anaconda3/lib/python3.8/site-packages (from ipython->datascience->-r requirements.txt (line 1)) (3.0.17)\n",
      "Requirement already satisfied: pexpect>4.3 in /usr/local/anaconda3/lib/python3.8/site-packages (from ipython->datascience->-r requirements.txt (line 1)) (4.8.0)\n",
      "Requirement already satisfied: pygments in /usr/local/anaconda3/lib/python3.8/site-packages (from ipython->datascience->-r requirements.txt (line 1)) (2.8.1)\n",
      "Requirement already satisfied: parso<0.8.0,>=0.7.0 in /usr/local/anaconda3/lib/python3.8/site-packages (from jedi>=0.16->ipython->datascience->-r requirements.txt (line 1)) (0.7.0)\n",
      "Requirement already satisfied: ptyprocess>=0.5 in /usr/local/anaconda3/lib/python3.8/site-packages (from pexpect>4.3->ipython->datascience->-r requirements.txt (line 1)) (0.7.0)\n",
      "Requirement already satisfied: wcwidth in /usr/local/anaconda3/lib/python3.8/site-packages (from prompt-toolkit!=3.0.0,!=3.0.1,<3.1.0,>=2.0.0->ipython->datascience->-r requirements.txt (line 1)) (0.2.5)\n",
      "Requirement already satisfied: ipython-genutils in /usr/local/anaconda3/lib/python3.8/site-packages (from traitlets>=4.1.0->ipykernel->-r requirements.txt (line 3)) (0.2.0)\n",
      "Requirement already satisfied: widgetsnbextension~=3.5.0 in /usr/local/anaconda3/lib/python3.8/site-packages (from ipywidgets->-r requirements.txt (line 6)) (3.5.1)\n",
      "Requirement already satisfied: jupyterlab-widgets>=1.0.0 in /usr/local/anaconda3/lib/python3.8/site-packages (from ipywidgets->-r requirements.txt (line 6)) (1.0.0)\n",
      "Requirement already satisfied: jupyter-core in /usr/local/anaconda3/lib/python3.8/site-packages (from nbformat->-r requirements.txt (line 12)) (4.7.1)\n",
      "Requirement already satisfied: jsonschema!=2.5.0,>=2.4 in /usr/local/anaconda3/lib/python3.8/site-packages (from nbformat->-r requirements.txt (line 12)) (3.2.0)\n",
      "Requirement already satisfied: attrs>=17.4.0 in /usr/local/anaconda3/lib/python3.8/site-packages (from jsonschema!=2.5.0,>=2.4->nbformat->-r requirements.txt (line 12)) (20.3.0)\n",
      "Requirement already satisfied: pyrsistent>=0.14.0 in /usr/local/anaconda3/lib/python3.8/site-packages (from jsonschema!=2.5.0,>=2.4->nbformat->-r requirements.txt (line 12)) (0.17.3)\n",
      "Requirement already satisfied: notebook>=4.4.1 in /usr/local/anaconda3/lib/python3.8/site-packages (from widgetsnbextension~=3.5.0->ipywidgets->-r requirements.txt (line 6)) (6.3.0)\n",
      "Requirement already satisfied: Send2Trash>=1.5.0 in /usr/local/anaconda3/lib/python3.8/site-packages (from notebook>=4.4.1->widgetsnbextension~=3.5.0->ipywidgets->-r requirements.txt (line 6)) (1.5.0)\n",
      "Requirement already satisfied: argon2-cffi in /usr/local/anaconda3/lib/python3.8/site-packages (from notebook>=4.4.1->widgetsnbextension~=3.5.0->ipywidgets->-r requirements.txt (line 6)) (20.1.0)\n",
      "Requirement already satisfied: prometheus-client in /usr/local/anaconda3/lib/python3.8/site-packages (from notebook>=4.4.1->widgetsnbextension~=3.5.0->ipywidgets->-r requirements.txt (line 6)) (0.10.1)\n",
      "Requirement already satisfied: pyzmq>=17 in /usr/local/anaconda3/lib/python3.8/site-packages (from notebook>=4.4.1->widgetsnbextension~=3.5.0->ipywidgets->-r requirements.txt (line 6)) (20.0.0)\n",
      "Requirement already satisfied: terminado>=0.8.3 in /usr/local/anaconda3/lib/python3.8/site-packages (from notebook>=4.4.1->widgetsnbextension~=3.5.0->ipywidgets->-r requirements.txt (line 6)) (0.9.4)\n",
      "Requirement already satisfied: qtconsole in /usr/local/anaconda3/lib/python3.8/site-packages (from jupyter->-r requirements.txt (line 39)) (5.0.3)\n",
      "Requirement already satisfied: jupyter-console in /usr/local/anaconda3/lib/python3.8/site-packages (from jupyter->-r requirements.txt (line 39)) (6.4.0)\n",
      "Requirement already satisfied: pandocfilters>=1.4.1 in /usr/local/anaconda3/lib/python3.8/site-packages (from nbconvert->-r requirements.txt (line 11)) (1.4.3)\n",
      "Requirement already satisfied: jupyterlab-pygments in /usr/local/anaconda3/lib/python3.8/site-packages (from nbconvert->-r requirements.txt (line 11)) (0.1.2)\n",
      "Requirement already satisfied: defusedxml in /usr/local/anaconda3/lib/python3.8/site-packages (from nbconvert->-r requirements.txt (line 11)) (0.7.1)\n",
      "Requirement already satisfied: testpath in /usr/local/anaconda3/lib/python3.8/site-packages (from nbconvert->-r requirements.txt (line 11)) (0.4.4)\n",
      "Requirement already satisfied: mistune<2,>=0.8.1 in /usr/local/anaconda3/lib/python3.8/site-packages (from nbconvert->-r requirements.txt (line 11)) (0.8.4)\n",
      "Requirement already satisfied: nbclient<0.6.0,>=0.5.0 in /usr/local/anaconda3/lib/python3.8/site-packages (from nbconvert->-r requirements.txt (line 11)) (0.5.3)\n",
      "Requirement already satisfied: bleach in /usr/local/anaconda3/lib/python3.8/site-packages (from nbconvert->-r requirements.txt (line 11)) (3.3.0)\n",
      "Requirement already satisfied: entrypoints>=0.2.2 in /usr/local/anaconda3/lib/python3.8/site-packages (from nbconvert->-r requirements.txt (line 11)) (0.3)\n",
      "Requirement already satisfied: async-generator in /usr/local/anaconda3/lib/python3.8/site-packages (from nbclient<0.6.0,>=0.5.0->nbconvert->-r requirements.txt (line 11)) (1.10)\n",
      "Requirement already satisfied: nest-asyncio in /usr/local/anaconda3/lib/python3.8/site-packages (from nbclient<0.6.0,>=0.5.0->nbconvert->-r requirements.txt (line 11)) (1.5.1)\n",
      "Requirement already satisfied: regex in /usr/local/anaconda3/lib/python3.8/site-packages (from nltk->-r requirements.txt (line 36)) (2021.4.4)\n",
      "Requirement already satisfied: tqdm in /usr/local/anaconda3/lib/python3.8/site-packages (from nltk->-r requirements.txt (line 36)) (4.59.0)\n",
      "Requirement already satisfied: joblib in /usr/local/anaconda3/lib/python3.8/site-packages (from nltk->-r requirements.txt (line 36)) (1.0.1)\n",
      "Requirement already satisfied: pytz>=2017.3 in /usr/local/anaconda3/lib/python3.8/site-packages (from pandas->-r requirements.txt (line 5)) (2021.1)\n",
      "Collecting typing-extensions>=3.10.0.0\n",
      "  Downloading typing_extensions-4.3.0-py3-none-any.whl (25 kB)\n",
      "Requirement already satisfied: scikit-learn in /usr/local/anaconda3/lib/python3.8/site-packages (from sklearn->-r requirements.txt (line 9)) (0.24.1)\n",
      "Requirement already satisfied: cffi>=1.0.0 in /usr/local/anaconda3/lib/python3.8/site-packages (from argon2-cffi->notebook>=4.4.1->widgetsnbextension~=3.5.0->ipywidgets->-r requirements.txt (line 6)) (1.14.5)\n",
      "Requirement already satisfied: pycparser in /usr/local/anaconda3/lib/python3.8/site-packages (from cffi>=1.0.0->argon2-cffi->notebook>=4.4.1->widgetsnbextension~=3.5.0->ipywidgets->-r requirements.txt (line 6)) (2.20)\n",
      "Requirement already satisfied: packaging in /usr/local/anaconda3/lib/python3.8/site-packages (from bleach->nbconvert->-r requirements.txt (line 11)) (20.9)\n",
      "Requirement already satisfied: webencodings in /usr/local/anaconda3/lib/python3.8/site-packages (from bleach->nbconvert->-r requirements.txt (line 11)) (0.5.1)\n",
      "Collecting google-api-core!=2.0.*,!=2.1.*,!=2.2.*,!=2.3.0,<3.0.0dev,>=1.31.5\n",
      "  Downloading google_api_core-2.10.1-py3-none-any.whl (115 kB)\n",
      "\u001b[K     |████████████████████████████████| 115 kB 18.6 MB/s eta 0:00:01\n",
      "\u001b[?25hCollecting httplib2<1dev,>=0.15.0\n",
      "  Downloading httplib2-0.20.4-py3-none-any.whl (96 kB)\n",
      "\u001b[K     |████████████████████████████████| 96 kB 19.9 MB/s eta 0:00:01\n",
      "\u001b[?25hRequirement already satisfied: google-auth<3.0.0dev,>=1.19.0 in /usr/local/anaconda3/lib/python3.8/site-packages (from google-api-python-client->otter-grader==4.0.1->-r requirements.txt (line 15)) (2.6.6)\n",
      "Collecting google-auth-httplib2>=0.1.0\n",
      "  Downloading google_auth_httplib2-0.1.0-py2.py3-none-any.whl (9.3 kB)\n"
     ]
    },
    {
     "name": "stdout",
     "output_type": "stream",
     "text": [
      "Collecting uritemplate<5,>=3.0.1\n",
      "  Downloading uritemplate-4.1.1-py2.py3-none-any.whl (10 kB)\n",
      "Collecting googleapis-common-protos<2.0dev,>=1.56.2\n",
      "  Downloading googleapis_common_protos-1.56.4-py2.py3-none-any.whl (211 kB)\n",
      "\u001b[K     |████████████████████████████████| 211 kB 28.1 MB/s eta 0:00:01\n",
      "\u001b[?25hRequirement already satisfied: protobuf<5.0.0dev,>=3.20.1 in /usr/local/anaconda3/lib/python3.8/site-packages (from google-api-core!=2.0.*,!=2.1.*,!=2.2.*,!=2.3.0,<3.0.0dev,>=1.31.5->google-api-python-client->otter-grader==4.0.1->-r requirements.txt (line 15)) (3.20.1)\n",
      "Requirement already satisfied: rsa<5,>=3.1.4 in /usr/local/anaconda3/lib/python3.8/site-packages (from google-auth<3.0.0dev,>=1.19.0->google-api-python-client->otter-grader==4.0.1->-r requirements.txt (line 15)) (4.8)\n",
      "Requirement already satisfied: cachetools<6.0,>=2.0.0 in /usr/local/anaconda3/lib/python3.8/site-packages (from google-auth<3.0.0dev,>=1.19.0->google-api-python-client->otter-grader==4.0.1->-r requirements.txt (line 15)) (5.1.0)\n",
      "Requirement already satisfied: pyasn1-modules>=0.2.1 in /usr/local/anaconda3/lib/python3.8/site-packages (from google-auth<3.0.0dev,>=1.19.0->google-api-python-client->otter-grader==4.0.1->-r requirements.txt (line 15)) (0.2.8)\n",
      "Requirement already satisfied: pyasn1<0.5.0,>=0.4.6 in /usr/local/anaconda3/lib/python3.8/site-packages (from pyasn1-modules>=0.2.1->google-auth<3.0.0dev,>=1.19.0->google-api-python-client->otter-grader==4.0.1->-r requirements.txt (line 15)) (0.4.8)\n",
      "Requirement already satisfied: urllib3<1.27,>=1.21.1 in /usr/local/anaconda3/lib/python3.8/site-packages (from requests->otter-grader==4.0.1->-r requirements.txt (line 15)) (1.26.4)\n",
      "Requirement already satisfied: certifi>=2017.4.17 in /usr/local/anaconda3/lib/python3.8/site-packages (from requests->otter-grader==4.0.1->-r requirements.txt (line 15)) (2020.12.5)\n",
      "Requirement already satisfied: chardet<5,>=3.0.2 in /usr/local/anaconda3/lib/python3.8/site-packages (from requests->otter-grader==4.0.1->-r requirements.txt (line 15)) (4.0.0)\n",
      "Requirement already satisfied: idna<3,>=2.5 in /usr/local/anaconda3/lib/python3.8/site-packages (from requests->otter-grader==4.0.1->-r requirements.txt (line 15)) (2.10)\n",
      "Requirement already satisfied: requests-oauthlib>=0.7.0 in /usr/local/anaconda3/lib/python3.8/site-packages (from google-auth-oauthlib->otter-grader==4.0.1->-r requirements.txt (line 15)) (1.3.1)\n",
      "Requirement already satisfied: oauthlib>=3.0.0 in /usr/local/anaconda3/lib/python3.8/site-packages (from requests-oauthlib>=0.7.0->google-auth-oauthlib->otter-grader==4.0.1->-r requirements.txt (line 15)) (3.2.0)\n",
      "Collecting markdown-it-py<3.0.0,>=1.0.0\n",
      "  Downloading markdown_it_py-2.1.0-py3-none-any.whl (84 kB)\n",
      "\u001b[K     |████████████████████████████████| 84 kB 10.9 MB/s eta 0:00:01\n",
      "\u001b[?25hRequirement already satisfied: toml in /usr/local/anaconda3/lib/python3.8/site-packages (from jupytext->otter-grader==4.0.1->-r requirements.txt (line 15)) (0.10.2)\n",
      "Collecting mdit-py-plugins\n",
      "  Downloading mdit_py_plugins-0.3.0-py3-none-any.whl (43 kB)\n",
      "\u001b[K     |████████████████████████████████| 43 kB 6.5 MB/s  eta 0:00:01\n",
      "\u001b[?25hCollecting mdurl~=0.1\n",
      "  Downloading mdurl-0.1.2-py3-none-any.whl (10.0 kB)\n",
      "Collecting tenacity>=6.2.0\n",
      "  Downloading tenacity-8.1.0-py3-none-any.whl (23 kB)\n",
      "Collecting typer>=0.4.1\n",
      "  Downloading typer-0.6.1-py3-none-any.whl (38 kB)\n",
      "Collecting pydantic\n",
      "  Downloading pydantic-1.10.2-cp38-cp38-macosx_10_9_x86_64.whl (3.1 MB)\n",
      "\u001b[K     |████████████████████████████████| 3.1 MB 26.2 MB/s eta 0:00:01\n",
      "\u001b[?25hRequirement already satisfied: qtpy in /usr/local/anaconda3/lib/python3.8/site-packages (from qtconsole->jupyter->-r requirements.txt (line 39)) (1.9.0)\n",
      "Requirement already satisfied: threadpoolctl>=2.0.0 in /usr/local/anaconda3/lib/python3.8/site-packages (from scikit-learn->sklearn->-r requirements.txt (line 9)) (2.1.0)\n",
      "Requirement already satisfied: babel>=1.3 in /usr/local/anaconda3/lib/python3.8/site-packages (from sphinx->fica>=0.2.0->otter-grader==4.0.1->-r requirements.txt (line 15)) (2.9.0)\n",
      "Requirement already satisfied: sphinxcontrib-htmlhelp in /usr/local/anaconda3/lib/python3.8/site-packages (from sphinx->fica>=0.2.0->otter-grader==4.0.1->-r requirements.txt (line 15)) (1.0.3)\n",
      "Requirement already satisfied: alabaster<0.8,>=0.7 in /usr/local/anaconda3/lib/python3.8/site-packages (from sphinx->fica>=0.2.0->otter-grader==4.0.1->-r requirements.txt (line 15)) (0.7.12)\n",
      "Requirement already satisfied: snowballstemmer>=1.1 in /usr/local/anaconda3/lib/python3.8/site-packages (from sphinx->fica>=0.2.0->otter-grader==4.0.1->-r requirements.txt (line 15)) (2.1.0)\n",
      "Requirement already satisfied: imagesize in /usr/local/anaconda3/lib/python3.8/site-packages (from sphinx->fica>=0.2.0->otter-grader==4.0.1->-r requirements.txt (line 15)) (1.2.0)\n",
      "Requirement already satisfied: sphinxcontrib-serializinghtml in /usr/local/anaconda3/lib/python3.8/site-packages (from sphinx->fica>=0.2.0->otter-grader==4.0.1->-r requirements.txt (line 15)) (1.1.4)\n",
      "Requirement already satisfied: sphinxcontrib-applehelp in /usr/local/anaconda3/lib/python3.8/site-packages (from sphinx->fica>=0.2.0->otter-grader==4.0.1->-r requirements.txt (line 15)) (1.0.2)\n",
      "Requirement already satisfied: sphinxcontrib-devhelp in /usr/local/anaconda3/lib/python3.8/site-packages (from sphinx->fica>=0.2.0->otter-grader==4.0.1->-r requirements.txt (line 15)) (1.0.2)\n",
      "Requirement already satisfied: sphinxcontrib-jsmath in /usr/local/anaconda3/lib/python3.8/site-packages (from sphinx->fica>=0.2.0->otter-grader==4.0.1->-r requirements.txt (line 15)) (1.0.1)\n",
      "Requirement already satisfied: sphinxcontrib-qthelp in /usr/local/anaconda3/lib/python3.8/site-packages (from sphinx->fica>=0.2.0->otter-grader==4.0.1->-r requirements.txt (line 15)) (1.0.3)\n",
      "Building wheels for collected packages: datascience, sklearn\n",
      "  Building wheel for datascience (setup.py) ... \u001b[?25ldone\n",
      "\u001b[?25h  Created wheel for datascience: filename=datascience-0.17.5-py3-none-any.whl size=732527 sha256=180e013a0f9d09df8015e21abcc2a9485450f25f8b33d2571b59cc0a75278d49\n",
      "  Stored in directory: /Users/meililiu/Library/Caches/pip/wheels/e3/ae/e2/6f3b97f28aed25dcfaa2cf9af603c70018d9598e24f1240248\n",
      "  Building wheel for sklearn (setup.py) ... \u001b[?25ldone\n",
      "\u001b[?25h  Created wheel for sklearn: filename=sklearn-0.0-py2.py3-none-any.whl size=1316 sha256=8a90f15f882ec0cbafc7ca490db90e1caf716c32733a3a2c515592230a23f9fa\n",
      "  Stored in directory: /Users/meililiu/Library/Caches/pip/wheels/22/0b/40/fd3f795caaa1fb4c6cb738bc1f56100be1e57da95849bfc897\n",
      "Successfully built datascience sklearn\n",
      "Installing collected packages: mdurl, typing-extensions, markdown-it-py, httplib2, googleapis-common-protos, uritemplate, typer, tenacity, pydantic, mdit-py-plugins, google-auth-httplib2, google-api-core, branca, python-on-whales, plotly, jupytext, gspread, google-api-python-client, folium, fica, dill, sklearn, PyPDF2, pdfkit, overrides, otter-grader, datascience\n",
      "  Attempting uninstall: typing-extensions\n",
      "    Found existing installation: typing-extensions 3.7.4.3\n",
      "    Uninstalling typing-extensions-3.7.4.3:\n",
      "      Successfully uninstalled typing-extensions-3.7.4.3\n",
      "Successfully installed PyPDF2-2.10.9 branca-0.5.0 datascience-0.17.5 dill-0.3.5.1 fica-0.2.0 folium-0.12.1.post1 google-api-core-2.10.1 google-api-python-client-2.62.0 google-auth-httplib2-0.1.0 googleapis-common-protos-1.56.4 gspread-5.5.0 httplib2-0.20.4 jupytext-1.14.1 markdown-it-py-2.1.0 mdit-py-plugins-0.3.0 mdurl-0.1.2 otter-grader-4.0.1 overrides-6.2.0 pdfkit-1.0.0 plotly-5.10.0 pydantic-1.10.2 python-on-whales-0.52.0 sklearn-0.0 tenacity-8.1.0 typer-0.6.1 typing-extensions-4.3.0 uritemplate-4.1.1\n"
     ]
    }
   ],
   "source": [
    "# Downloads required packages and files\n",
    "required_files = \"https://github.com/jhu-intro-hlt/jhu-intro-hlt.github.io/raw/master/assignments/hw1-files/student/required_files.zip\"\n",
    "! wget $required_files && unzip -o required_files.zip\n",
    "! pip install -r requirements.txt"
   ]
  },
  {
   "cell_type": "code",
   "execution_count": 2,
   "metadata": {
    "id": "pEX1BnxNl3GS"
   },
   "outputs": [],
   "source": [
    "# Initialize Otter\n",
    "import otter\n",
    "grader = otter.Notebook(colab=True)"
   ]
  },
  {
   "cell_type": "code",
   "execution_count": 3,
   "metadata": {
    "colab": {
     "base_uri": "https://localhost:8080/"
    },
    "id": "616QyAz3l3GS",
    "outputId": "d1b077d7-c0fd-4e5c-cd38-9093d6c20f07",
    "pycharm": {
     "name": "#%%\n"
    }
   },
   "outputs": [
    {
     "name": "stderr",
     "output_type": "stream",
     "text": [
      "[nltk_data] Downloading package punkt to /Users/meililiu/nltk_data...\n",
      "[nltk_data]   Unzipping tokenizers/punkt.zip.\n"
     ]
    },
    {
     "data": {
      "text/plain": [
       "True"
      ]
     },
     "execution_count": 3,
     "metadata": {},
     "output_type": "execute_result"
    }
   ],
   "source": [
    "import random\n",
    "import math\n",
    "import re\n",
    "import os\n",
    "import urllib\n",
    "import json\n",
    "from typing import *\n",
    "from collections import Counter, defaultdict\n",
    "\n",
    "import numpy as np\n",
    "import nltk\n",
    "import matplotlib.pyplot as plt\n",
    "from nltk.tokenize import RegexpTokenizer, sent_tokenize\n",
    "\n",
    "nltk.download('punkt')"
   ]
  },
  {
   "cell_type": "markdown",
   "metadata": {
    "id": "sWXKLhH1N0IU",
    "pycharm": {
     "name": "#%% md\n"
    }
   },
   "source": [
    "## Part 1: N-gram Language Models\n",
    "\n",
    "For the first part of this assignment, you will implement a trigram language model and train it on a small corpus. You will then implement a scoring function to compute the perplexity of the model on a held-out test set. Finally, you will implement some methods to deal with sparsity (zero count) issues in your model.\n",
    "\n",
    "To ease you into the implementation, we will provide some boilerplate code that you would need to fill in depending upon the functionalities the code is supposed to perform. For the first few sections below, we will use the complete text from Leo Tolstoy's \"War and Peace,\" which is freely available from [Project Gutenberg](https://www.gutenberg.org/). Run the following code block to download the text. "
   ]
  },
  {
   "cell_type": "code",
   "execution_count": 4,
   "metadata": {
    "id": "fmw2bHZPl3GT",
    "pycharm": {
     "name": "#%%\n"
    }
   },
   "outputs": [],
   "source": [
    "def download_data():\n",
    "    def _download(url: str, filename: str) -> str:\n",
    "        txt = urllib.request.urlopen(url)\n",
    "        with open(filename, 'w') as f:\n",
    "            f.write(txt.read().decode('utf-8'))\n",
    "        \n",
    "    _download('https://cs.stanford.edu/people/karpathy/char-rnn/warpeace_input.txt', 'warpeace_input.txt')\n",
    "    _download('http://www.gutenberg.org/files/1399/1399-0.txt', '1399-0.txt')\n",
    "\n",
    "download_data()"
   ]
  },
  {
   "cell_type": "markdown",
   "metadata": {
    "id": "obJJmlMlSs2d",
    "pycharm": {
     "name": "#%% md\n"
    }
   },
   "source": [
    "The complete text downloaded above contains punctuations which are not important for our purposes. So we will perform a basic text preprocessing using the [NLTK toolkit](https://www.nltk.org/). We will store the processed text into a list of strings, where each string will contain words without any punctuations. We will also convert all words to lower case."
   ]
  },
  {
   "cell_type": "code",
   "execution_count": 5,
   "metadata": {
    "id": "eoKZKaRGVYa1",
    "pycharm": {
     "name": "#%%\n"
    }
   },
   "outputs": [],
   "source": [
    "# Loading the text\n",
    "try:\n",
    "    with open('warpeace_input.txt', 'r') as file:\n",
    "        corpus_raw = file.read().replace('\\n', ' ')\n",
    "except FileNotFoundError:\n",
    "    with open('../../warpeace_input.txt', 'r') as file:\n",
    "        corpus_raw = file.read().replace('\\n', ' ')"
   ]
  },
  {
   "cell_type": "code",
   "execution_count": 6,
   "metadata": {
    "colab": {
     "base_uri": "https://localhost:8080/"
    },
    "id": "1r_Q1XbTWCst",
    "outputId": "ae005ea1-83de-4f8a-939f-e254bc60e0be",
    "pycharm": {
     "name": "#%%\n"
    }
   },
   "outputs": [
    {
     "name": "stdout",
     "output_type": "stream",
     "text": [
      "Corpus has 32040 sentences\n"
     ]
    }
   ],
   "source": [
    "sentences = sent_tokenize(corpus_raw)\n",
    "\n",
    "corpus = []\n",
    "tokenizer = RegexpTokenizer(r'\\w+')\n",
    "for sentence in sentences:\n",
    "    tokens = tokenizer.tokenize(sentence)\n",
    "    corpus.append([token.lower() for token in tokens])\n",
    "\n",
    "print(\"Corpus has {} sentences\".format(len(corpus)))"
   ]
  },
  {
   "cell_type": "markdown",
   "metadata": {
    "id": "ykO86GMkPQ2E",
    "pycharm": {
     "name": "#%% md\n"
    }
   },
   "source": [
    "### Warm-up: n-gram counts from a corpus\n",
    "\n",
    "Let's start with implementing a simple function for obtaining n-grams and their counts from a string. Complete the following function. _(5 points)_\n",
    "\n",
    "__Note 1:__ Use the special token `~` for both beginning of sentence (BOS) and end of sentence (EOS) tokens. For example, the sentence \"Mary has a little lamb\" has the bigrams \"_~ Mary_\", \"_Mary has_\", \"_has a_\", \"_a little_\", \"_little lamb_\", and \"_lamb ~_\".\n",
    "\n",
    "__Note 2:__ You don't need to do any further text processing beyond what has already been done before.\n",
    "\n",
    "__Note 3:__ For the usage of `collections.Counter`, you can refer to [its python doc](https://docs.python.org/3/library/collections.html#collections.Counter)."
   ]
  },
  {
   "cell_type": "code",
   "execution_count": 7,
   "metadata": {
    "id": "2e33ebbwl3GU",
    "pycharm": {
     "name": "#%%\n"
    },
    "tags": []
   },
   "outputs": [],
   "source": [
    "def generate_ngrams(text: List[str], n: int) -> Counter:\n",
    "    \"\"\"Generates all n-grams (i.e. n-1 context words) for the given text.\n",
    "\n",
    "    Parameters\n",
    "    ----------\n",
    "    text : List[str]\n",
    "        Input text (list of strings) after tokenization.\n",
    "    n : int\n",
    "        n-gram parameter (must be greater than or equal to 1).\n",
    "\n",
    "    Returns\n",
    "    -------\n",
    "    ngrams : Counter\n",
    "        Output n-grams dictionary as {ngram: count} (Dict[Tuple, int]), \n",
    "        where `ngram` is a n-gram tuple and `count` is an integer count.\n",
    "        e.g. ('Mary','has') and value as count of the n-gram in the text.\n",
    "    \"\"\"\n",
    "    assert (isinstance(n, int) and n > 0)\n",
    "\n",
    "    ngrams = Counter()\n",
    "\n",
    "    # TODO: Your code here.\n",
    "    # iterate through all ngrams and count\n",
    "    \n",
    "   \n",
    "    queue=['~']*n\n",
    "    for i in range(len(text)+n-1):\n",
    "      word = text[i] if i < len(text) else \"~\"\n",
    "      queue.pop(0)\n",
    "      queue.append(word)\n",
    "      ngrams[tuple(queue)]+=1\n",
    "\n",
    "    return ngrams\n",
    "\n",
    "\n",
    "def generate_ngrams_sentences(text: List[List[str]], n: int) -> Counter:\n",
    "    \"\"\"Generates n-grams for each sentence and aggregates them.\"\"\"\n",
    "    all_ngrams = Counter()\n",
    "    for sentence in text:\n",
    "        all_ngrams.update(generate_ngrams(sentence, n))\n",
    "    return all_ngrams"
   ]
  },
  {
   "cell_type": "code",
   "execution_count": 8,
   "metadata": {
    "colab": {
     "base_uri": "https://localhost:8080/"
    },
    "id": "b9nXynL4l3GV",
    "outputId": "1f4c6c14-b1ba-45e8-af25-04dbf2a7f1d8",
    "pycharm": {
     "name": "#%%\n"
    },
    "scrolled": true,
    "tags": []
   },
   "outputs": [
    {
     "name": "stdout",
     "output_type": "stream",
     "text": [
      "[['well', 'prince', 'so', 'genoa', 'and', 'lucca', 'are', 'now', 'just', 'family', 'estates', 'of', 'the', 'buonapartes'], ['but', 'i', 'warn', 'you', 'if', 'you', 'don', 't', 'tell', 'me', 'that', 'this', 'means', 'war', 'if', 'you', 'still', 'try', 'to', 'defend', 'the', 'infamies', 'and', 'horrors', 'perpetrated', 'by', 'that', 'antichrist', 'i', 'really', 'believe', 'he', 'is', 'antichrist', 'i', 'will', 'have', 'nothing', 'more', 'to', 'do', 'with', 'you', 'and', 'you', 'are', 'no', 'longer', 'my', 'friend', 'no', 'longer', 'my', 'faithful', 'slave', 'as', 'you', 'call', 'yourself']]\n",
      "Counter({('no', 'longer', 'my'): 2, ('~', '~', 'well'): 1, ('~', 'well', 'prince'): 1, ('well', 'prince', 'so'): 1, ('prince', 'so', 'genoa'): 1, ('so', 'genoa', 'and'): 1, ('genoa', 'and', 'lucca'): 1, ('and', 'lucca', 'are'): 1, ('lucca', 'are', 'now'): 1, ('are', 'now', 'just'): 1, ('now', 'just', 'family'): 1, ('just', 'family', 'estates'): 1, ('family', 'estates', 'of'): 1, ('estates', 'of', 'the'): 1, ('of', 'the', 'buonapartes'): 1, ('the', 'buonapartes', '~'): 1, ('buonapartes', '~', '~'): 1, ('~', '~', 'but'): 1, ('~', 'but', 'i'): 1, ('but', 'i', 'warn'): 1, ('i', 'warn', 'you'): 1, ('warn', 'you', 'if'): 1, ('you', 'if', 'you'): 1, ('if', 'you', 'don'): 1, ('you', 'don', 't'): 1, ('don', 't', 'tell'): 1, ('t', 'tell', 'me'): 1, ('tell', 'me', 'that'): 1, ('me', 'that', 'this'): 1, ('that', 'this', 'means'): 1, ('this', 'means', 'war'): 1, ('means', 'war', 'if'): 1, ('war', 'if', 'you'): 1, ('if', 'you', 'still'): 1, ('you', 'still', 'try'): 1, ('still', 'try', 'to'): 1, ('try', 'to', 'defend'): 1, ('to', 'defend', 'the'): 1, ('defend', 'the', 'infamies'): 1, ('the', 'infamies', 'and'): 1, ('infamies', 'and', 'horrors'): 1, ('and', 'horrors', 'perpetrated'): 1, ('horrors', 'perpetrated', 'by'): 1, ('perpetrated', 'by', 'that'): 1, ('by', 'that', 'antichrist'): 1, ('that', 'antichrist', 'i'): 1, ('antichrist', 'i', 'really'): 1, ('i', 'really', 'believe'): 1, ('really', 'believe', 'he'): 1, ('believe', 'he', 'is'): 1, ('he', 'is', 'antichrist'): 1, ('is', 'antichrist', 'i'): 1, ('antichrist', 'i', 'will'): 1, ('i', 'will', 'have'): 1, ('will', 'have', 'nothing'): 1, ('have', 'nothing', 'more'): 1, ('nothing', 'more', 'to'): 1, ('more', 'to', 'do'): 1, ('to', 'do', 'with'): 1, ('do', 'with', 'you'): 1, ('with', 'you', 'and'): 1, ('you', 'and', 'you'): 1, ('and', 'you', 'are'): 1, ('you', 'are', 'no'): 1, ('are', 'no', 'longer'): 1, ('longer', 'my', 'friend'): 1, ('my', 'friend', 'no'): 1, ('friend', 'no', 'longer'): 1, ('longer', 'my', 'faithful'): 1, ('my', 'faithful', 'slave'): 1, ('faithful', 'slave', 'as'): 1, ('slave', 'as', 'you'): 1, ('as', 'you', 'call'): 1, ('you', 'call', 'yourself'): 1, ('call', 'yourself', '~'): 1, ('yourself', '~', '~'): 1})\n",
      "76\n"
     ]
    }
   ],
   "source": [
    "# Test your implementation on some sentences from the corpus we downloaded above\n",
    "# and verify if it works correctly.\n",
    "text = corpus[:2]\n",
    "print(text)\n",
    "\n",
    "ngrams = generate_ngrams_sentences(text, 3)\n",
    "print(ngrams)\n",
    "print(len(ngrams))"
   ]
  },
  {
   "cell_type": "code",
   "execution_count": 9,
   "metadata": {
    "colab": {
     "base_uri": "https://localhost:8080/",
     "height": 46
    },
    "deletable": false,
    "editable": false,
    "id": "pgDfiTQjl3GV",
    "outputId": "927ddc34-ea3e-4f7d-d679-5304fbd97117"
   },
   "outputs": [
    {
     "data": {
      "text/html": [
       "<p><strong><pre style='display: inline;'>warmup-ngram</pre></strong> passed!</p>"
      ],
      "text/plain": [
       "warmup-ngram results: All test cases passed!"
      ]
     },
     "execution_count": 9,
     "metadata": {},
     "output_type": "execute_result"
    }
   ],
   "source": [
    "grader.check(\"warmup-ngram\")"
   ]
  },
  {
   "cell_type": "markdown",
   "metadata": {
    "id": "igo0_GcfRcX7",
    "pycharm": {
     "name": "#%% md\n"
    }
   },
   "source": [
    "<!-- BEGIN QUESTION -->\n",
    "\n",
    "__Question:__ Plot a histogram of counts vs. number of unigrams with that count (you can choose a subset of the corpus, say 500 sentences). Repeat for bigrams and trigrams. They should be all placed into a single plot. _(3 points)_"
   ]
  },
  {
   "cell_type": "code",
   "execution_count": 131,
   "metadata": {
    "colab": {
     "base_uri": "https://localhost:8080/",
     "height": 297
    },
    "id": "pccdFETSl3GV",
    "outputId": "92a58d7d-d13a-4464-d547-bdac774bf194",
    "pycharm": {
     "name": "#%%\n"
    },
    "tags": []
   },
   "outputs": [
    {
     "data": {
      "image/png": "[encoded data removed]",
      "text/plain": [
       "<Figure size 432x288 with 3 Axes>"
      ]
     },
     "metadata": {
      "needs_background": "light"
     },
     "output_type": "display_data"
    }
   ],
   "source": [
    "fig, axs = plt.subplots(1, 3, tight_layout=True)\n",
    "\n",
    "# Picks a subset of the corpus\n",
    "# TODO: Your code here\n",
    "\n",
    "text = corpus[:500]\n",
    "# Unigram counts\n",
    "# TODO: Your code here\n",
    "\n",
    "unigram = generate_ngrams_sentences(text, 1)\n",
    "axs[0].hist(unigram.values(),20)\n",
    "axs[0].set_title('unigram')\n",
    "# Bigram counts\n",
    "# TODO: Your code here\n",
    "bigram = generate_ngrams_sentences(text, 2)\n",
    "axs[1].hist(bigram.values(),20)\n",
    "axs[1].set_title('bigram')\n",
    "# Trigram counts\n",
    "# TODO: Your code here\n",
    "trigram = generate_ngrams_sentences(text, 3)\n",
    "axs[2].hist(trigram.values(),20)\n",
    "axs[2].set_title('trigram')\n",
    "plt.show()"
   ]
  },
  {
   "cell_type": "markdown",
   "metadata": {
    "id": "lOBzYm5Yl3GV",
    "pycharm": {
     "name": "#%% md\n"
    }
   },
   "source": [
    "<!-- END QUESTION -->\n",
    "\n",
    "<!-- BEGIN QUESTION -->\n",
    "\n",
    "__Question:__ What observation can you make from the plots? _(2 points)_"
   ]
  },
  {
   "cell_type": "markdown",
   "metadata": {
    "id": "4m3ctuMZl3GV",
    "pycharm": {
     "name": "#%% md\n"
    }
   },
   "source": [
    "__Answer:__"
   ]
  },
  {
   "cell_type": "markdown",
   "metadata": {
    "id": "FHw3RXbPl3GW"
   },
   "source": [
    "First, we can see the sparsity in the Ngram model, which means that most elements appear only a few times.\n",
    "Second, the sparsity becomes larger as n increases."
   ]
  },
  {
   "cell_type": "markdown",
   "metadata": {
    "id": "GtFid2zSLIaU",
    "pycharm": {
     "name": "#%% md\n"
    }
   },
   "source": [
    "<!-- END QUESTION -->\n",
    "\n",
    "### Implementing an n-gram language model\n",
    "\n",
    "Next, you will implement a class for an trigram (n=3) language model. This will be a barebones trigram LM, i.e., no smoothing or OOV handling is required. Complete\n",
    "the functions in the following `NgramLM` class. _(20 points)_\n",
    "\n",
    "Note that the class itself is\n",
    "for a general n-gram LM, but we will instantiate it with n=3."
   ]
  },
  {
   "cell_type": "markdown",
   "metadata": {
    "id": "v8sHS1fYl3GW"
   },
   "source": [
    "_Type your answer here, replacing this text._"
   ]
  },
  {
   "cell_type": "code",
   "execution_count": 248,
   "metadata": {
    "id": "TEDwFtlFMNhP",
    "pycharm": {
     "name": "#%%\n"
    },
    "tags": []
   },
   "outputs": [],
   "source": [
    "class NgramLM(object):\n",
    "    \"\"\"A basic n-gram language model without any smoothing.\"\"\"\n",
    "\n",
    "    def __init__(self, n: int):\n",
    "        assert (isinstance(n, int) and n > 0)\n",
    "        \n",
    "        self.n: int = n\n",
    "        self.vocab: Set[str] = set()  # A set of all words appearing in the corpus.\n",
    "        self.ngrams = Counter()  # count(ABC) - Dict[Tuple, int]\n",
    "        self.ngram_contexts = Counter()  # count(AB) - Dict[Tuple, int]\n",
    "        self.contexts = defaultdict(set)  # {AB: {C1,C2,C2}} - Dict[Tuple, Set[str]]\n",
    "        \n",
    "    def generate_ngrams(self, text: List[str]) -> Counter:\n",
    "        \"\"\"Generates all n-grams (i.e. n-1 context words) for the given text.\n",
    "        In this method, we assume n is defined at the class initialization,\n",
    "        so you should use `self.n`.\n",
    "\n",
    "        Parameters\n",
    "        ----------\n",
    "        text : List[str]\n",
    "            Input text (list of strings) after tokenization.\n",
    "\n",
    "        Returns\n",
    "        -------\n",
    "        ngrams : Counter\n",
    "            Output n-grams dictionary as {ngram: count} (Dict[Tuple, int]), \n",
    "            where `ngram` is a n-gram tuple and `count` is an integer count.\n",
    "            e.g. ('Mary','has') and value as count of the n-gram in the text.\n",
    "        \"\"\"\n",
    "        return generate_ngrams(text, self.n)\n",
    "    \n",
    "    def generate_ngrams_sentences(self, text: List[List[str]]) -> Counter:\n",
    "        \"\"\"Generates n-grams for each sentence and aggregates them.\"\"\"\n",
    "        return generate_ngrams_sentences(text, self.n)\n",
    "\n",
    "    def generate_contexts(self,text: List[str]) -> defaultdict(set):\n",
    "        \"\"\" Generate context \"\"\"\n",
    "        #print(text)\n",
    "        context = defaultdict(set)\n",
    "        queue=['~']*self.n\n",
    "        for i in range(len(text)+self.n-1):\n",
    "          word = text[i] if i < len(text) else \"~\"\n",
    "          queue.pop(0)\n",
    "          context[tuple(queue)].add(word)\n",
    "          queue.append(word)\n",
    "\n",
    "        return context\n",
    "\n",
    "    def update(self, text: List[str]):\n",
    "        \"\"\"Updates the model n-grams based on the given text input.\n",
    "        \n",
    "        Parameters\n",
    "        ----------\n",
    "        text : List[str]\n",
    "        \"\"\"\n",
    "        # TODO: Your code here\n",
    "        #update ngrams\n",
    "\n",
    "        #get the new ngram from the next text\n",
    "        new_ngram = self.generate_ngrams(text)\n",
    "        self.ngrams.update(new_ngram)\n",
    "\n",
    "        #from the new ngram, uodate contexts and vocab\n",
    "        for ng,count in new_ngram.items():\n",
    "          context = ng[:-1]\n",
    "          word = ng[-1]\n",
    "          self.ngram_contexts[context]+=count\n",
    "          self.contexts[context].add(word)\n",
    "          self.vocab.add(word)\n",
    "  \n",
    "\n",
    "    def word_prob(self, context: Tuple[str], word: str) -> float:\n",
    "        \"\"\"Returns the probability of a word given a context. The context is a\n",
    "        string of words, with length n-1. \n",
    "        \n",
    "        Parameters\n",
    "        ----------\n",
    "        context : Tuple[str]\n",
    "            A tuple of words describing the context for the next word.\n",
    "        word : str\n",
    "            The next word that the probability is computed for.\n",
    "            \n",
    "        Returns\n",
    "        -------\n",
    "        prob : float\n",
    "            The estimated probability of the next word given the context.\n",
    "        \"\"\"\n",
    "        # TODO: Your code here\n",
    "        triwords = context+tuple([word])\n",
    "        count_context = self.ngram_contexts[context]\n",
    "        count_word = self.ngrams[triwords]\n",
    "        if count_context ==0:\n",
    "          return 0\n",
    "        else:\n",
    "          return float(count_word/count_context)\n",
    "        \n",
    "    def next_word_candidates(self, context: Tuple[str]) -> List[str]:\n",
    "        \"\"\"Generates a list of tokens based on the given context, which would be\n",
    "        later used as candidates for the next word prediction.\n",
    "        \n",
    "        Parameters\n",
    "        ----------\n",
    "        context : Tuple[str]\n",
    "            A tuple of words describing the context for the next word.\n",
    "            \n",
    "        Returns\n",
    "        -------\n",
    "        words : List[str]\n",
    "            A list of candidate tokens for the next word.\n",
    "        \"\"\"\n",
    "        # TODO: Your code here\n",
    "        #print(list(self.contexts[context]))\n",
    "        return list(self.contexts[context])\n",
    "\n",
    "    def random_word(self, context: Tuple[str]) -> str:\n",
    "        \"\"\"Generates a random word based on the given context.\n",
    "        \n",
    "        Note: \n",
    "        Please use a random function from `random` instead of `numpy`;\n",
    "        otherwise, the autograder might not be happy.\n",
    "        \n",
    "        Parameters\n",
    "        ----------\n",
    "        context : Tuple[str]\n",
    "            A tuple of words describing the context for the next word.\n",
    "            \n",
    "        Returns\n",
    "        -------\n",
    "        word : str\n",
    "            One randomly drawn word from the distribution defined given the context.\n",
    "        \"\"\"\n",
    "        assert context in self.contexts, f'Encountered unseen context={context}.'\n",
    "        \n",
    "        # TODO: Your code here\n",
    "        candidates = self.next_word_candidates(context)\n",
    "        weights = [self.word_prob(context,cand) for cand in candidates]\n",
    "        #rand = random.randint(0,len(candidates)-1)\n",
    "        randword = random.choices(candidates,weights = weights,k=1)[0]\n",
    "        return randword\n",
    "\n",
    "    def random_text(self, length: int) -> List[str]:\n",
    "        \"\"\"Generates random text of the specified word length excluding \"~\" (BOS).\n",
    "        \n",
    "        Note: \n",
    "        - The final word of the generated text *can* be \"~\" (EOS), but it is not necessary.\n",
    "        - The generation should always start with \"~\" (BOS).\n",
    "        - Only the number of starting \"~\" (BOS) is excluded from the generation, any \n",
    "        ending \"~\" (EOS) is still counted to the `length`. It means that you should \n",
    "        draw a number of `length` samples.\n",
    "        \n",
    "        Note: \n",
    "        Please use a random function from `random` instead of `numpy`;\n",
    "        otherwise, the autograder might not be happy.\n",
    "        \n",
    "        Parameters\n",
    "        ----------\n",
    "        length : int\n",
    "            The designated length to generate.\n",
    "        \n",
    "        \"\"\"\n",
    "        # TODO: Your code here\n",
    "        context = [\"~\"]*(self.n-1)\n",
    "        sentence = []\n",
    "        sen_len = 0\n",
    "        while sen_len < length:\n",
    "          #get next word\n",
    "          next_word = self.random_word(tuple(context))\n",
    "          #append the next word to the sentence\n",
    "          #sentence = sentence +\" \"+next_word\n",
    "          sentence.append(next_word)\n",
    "          #update the context\n",
    "          context.append(next_word)\n",
    "          context.pop(0)\n",
    "\n",
    "          #update the length of sentecne\n",
    "          sen_len += 1\n",
    "        return sentence\n",
    "      "
   ]
  },
  {
   "cell_type": "code",
   "execution_count": 249,
   "metadata": {
    "cellView": "code",
    "colab": {
     "base_uri": "https://localhost:8080/"
    },
    "id": "8krtKhK7XLbM",
    "outputId": "d70ed15e-5538-4f6a-eea3-587b3c13caa4",
    "pycharm": {
     "name": "#%%\n"
    },
    "tags": []
   },
   "outputs": [],
   "source": [
    "# Training block for a trigram language model\n",
    "trigramlm = NgramLM(3)\n",
    "for sentence in corpus:\n",
    "    trigramlm.update(sentence)\n",
    "#print(trigramlm.next_word_candidates(('~', '~')))\n",
    "#print(trigramlm.word_prob(('to', 'a'), 'battle'))\n",
    "#print(trigramlm.word_prob(('to', 'a'), 'trot'))\n",
    "#print(np.isclose(trigramlm.word_prob(('to', 'a'), 'battle'), 0.00873362, atol=1e-7))\n",
    "#print(np.isclose(trigramlm.word_prob(('to', 'a'), 'trot'), 0.0131004, atol=1e-7))"
   ]
  },
  {
   "cell_type": "code",
   "execution_count": 27,
   "metadata": {
    "colab": {
     "base_uri": "https://localhost:8080/",
     "height": 46
    },
    "deletable": false,
    "editable": false,
    "id": "Cs_N0phol3GW",
    "outputId": "47dec578-2a70-417d-f2d6-c5f228bb5557"
   },
   "outputs": [
    {
     "data": {
      "text/html": [
       "<p><strong><pre style='display: inline;'>ngramlm-impl</pre></strong> passed!</p>"
      ],
      "text/plain": [
       "ngramlm-impl results: All test cases passed!"
      ]
     },
     "execution_count": 27,
     "metadata": {},
     "output_type": "execute_result"
    }
   ],
   "source": [
    "grader.check(\"ngramlm-impl\")"
   ]
  },
  {
   "cell_type": "markdown",
   "metadata": {
    "id": "6tjcHSLol3GX",
    "pycharm": {
     "name": "#%% md\n"
    }
   },
   "source": [
    "__Question:__ What is the size of the training data (number of tokens)? _(1 point)_"
   ]
  },
  {
   "cell_type": "code",
   "execution_count": 246,
   "metadata": {
    "id": "vNh0lq9Jl3GX",
    "pycharm": {
     "name": "#%%\n"
    },
    "tags": []
   },
   "outputs": [
    {
     "data": {
      "text/plain": [
       "571824"
      ]
     },
     "execution_count": 246,
     "metadata": {},
     "output_type": "execute_result"
    }
   ],
   "source": [
    "training_corpus_size = sum( [len(corpus[i]) for i in range(len(corpus))])\n",
    "training_corpus_size#= 571824"
   ]
  },
  {
   "cell_type": "markdown",
   "metadata": {
    "id": "iTHJnKx_l3GX",
    "pycharm": {
     "name": "#%% md\n"
    }
   },
   "source": [
    "__Question:__ What is the size of the vocabulary? _(1 point)_"
   ]
  },
  {
   "cell_type": "code",
   "execution_count": 15,
   "metadata": {
    "id": "TFblKI62l3GX",
    "pycharm": {
     "name": "#%%\n"
    },
    "tags": []
   },
   "outputs": [],
   "source": [
    "trigramlm_vocab_size = len(trigramlm.vocab)\n",
    "trigramlm_vocab_size = 17511"
   ]
  },
  {
   "cell_type": "markdown",
   "metadata": {
    "id": "shhXhONFl3GX",
    "pycharm": {
     "name": "#%% md\n"
    }
   },
   "source": [
    "<!-- BEGIN QUESTION -->\n",
    "\n",
    "__Question:__ What is the optimal time complexity of computing ngrams? How long does the training take? _(2 points)_\n",
    "\n",
    "*Note*: please use big-O notation to show the time complexity and explain variables involved accordingly."
   ]
  },
  {
   "cell_type": "markdown",
   "metadata": {
    "id": "6vVw8VHJl3GX",
    "pycharm": {
     "name": "#%% md\n"
    }
   },
   "source": [
    "__Answer:__ "
   ]
  },
  {
   "cell_type": "markdown",
   "metadata": {
    "id": "yL12R_YBl3GX"
   },
   "source": [
    "time complexity:o(N*n), where N is the training_corpus_size and n is the number of ngram\n",
    "if n is small, then the time complexity is o(N)"
   ]
  },
  {
   "cell_type": "code",
   "execution_count": 16,
   "metadata": {
    "colab": {
     "base_uri": "https://localhost:8080/"
    },
    "id": "bgVeiqNMl3GX",
    "outputId": "bdb73bb9-cb01-48a7-a823-db7a1009d5d0",
    "pycharm": {
     "name": "#%%\n"
    },
    "tags": []
   },
   "outputs": [
    {
     "data": {
      "text/plain": [
       "2131.614"
      ]
     },
     "execution_count": 16,
     "metadata": {},
     "output_type": "execute_result"
    }
   ],
   "source": [
    "# TODO: put the training time (in ms) of a trigram LM below.\n",
    "import datetime\n",
    "start_time = datetime.datetime.now()\n",
    "\n",
    "trigramlm = NgramLM(3)\n",
    "for sentence in corpus:\n",
    "    trigramlm.update(sentence)\n",
    "\n",
    "end_time = datetime.datetime.now()\n",
    "\n",
    "time_diff = (end_time - start_time)\n",
    "trigram_training_time = time_diff.total_seconds() * 1000\n",
    "trigram_training_time\n",
    "#trigram_training_time = 2397.165\n",
    "\n",
    "#trigram_training_time = o(N)) where N is the number of tokens.\n",
    "#To build the ngram model, first, we need to iterate through each sentecne and count, which takes o(N) time."
   ]
  },
  {
   "cell_type": "markdown",
   "metadata": {
    "id": "5RC2nZbUl3GX",
    "pycharm": {
     "name": "#%% md\n"
    }
   },
   "source": [
    "<!-- END QUESTION -->\n",
    "\n",
    "<!-- BEGIN QUESTION -->\n",
    "\n",
    "__Question:__ How would the training time scale if you have a corpus containing 1 billion tokens? Is this training time reasonable? If not, can you think of ways to improve it? _(2 points)_"
   ]
  },
  {
   "cell_type": "markdown",
   "metadata": {
    "id": "Dlxn8YSdasgO",
    "pycharm": {
     "name": "#%% md\n"
    }
   },
   "source": [
    "__Answer:__ "
   ]
  },
  {
   "cell_type": "markdown",
   "metadata": {
    "id": "kQ3k6C5pl3GX"
   },
   "source": [
    "The time scale would be in 1 hours, and I think it's reasonable.\n",
    "we can also improve it by parallel computing"
   ]
  },
  {
   "cell_type": "markdown",
   "metadata": {
    "id": "RxTPrtaKbzf5",
    "pycharm": {
     "name": "#%% md\n"
    }
   },
   "source": [
    "<!-- END QUESTION -->\n",
    "\n",
    "#### Predicting/generating text using the trained LM\n",
    "\n",
    "One of the applications of an LM is to automatically predict the next word given a context (such as in Smart Keyboards), or to generate a piece of text of a given length. Use the `random_word` and `random_text` functions you implemented earlier to answer the questions below. For full credit, you need to show how you arrived at the answer."
   ]
  },
  {
   "cell_type": "markdown",
   "metadata": {
    "id": "dgQQ-KgTeGFm",
    "pycharm": {
     "name": "#%% md\n"
    }
   },
   "source": [
    "__Question:__ Please implement the function that computes an empirical distribution for the next word prediction conditioning on a context. Consider the context \"by her\". You can generate a random word for a large number of times, say 1000, using this context and count how many times each word are generated to calculate its empirical probability accordingly. _(3 points)_ "
   ]
  },
  {
   "cell_type": "code",
   "execution_count": 14,
   "metadata": {
    "id": "Hrr8pjJCl3GX",
    "pycharm": {
     "name": "#%%\n"
    },
    "tags": []
   },
   "outputs": [],
   "source": [
    "def compute_empirical_distribution(model: NgramLM, context: Tuple[str], num_samples: int) -> Dict[str, float]:\n",
    "    \"\"\"Computes an empirical distribution for the next word conditioning on the given context.\n",
    "    \n",
    "    Parameters\n",
    "    ----------\n",
    "    model : NgramLM\n",
    "        A trained Ngram Language Model.\n",
    "    context : Tuple[str]\n",
    "        The context used to predict a next word.\n",
    "    num_samples : int\n",
    "        The number of samples to be drawn to compute the empirical distribution.\n",
    "        \n",
    "    Returns\n",
    "    -------\n",
    "    emp_distr : Dict[str, float]\n",
    "        An empirical distribution for the next word \n",
    "    \n",
    "    \"\"\"\n",
    "    emp_distr: Dict[str, float] = {}\n",
    "        \n",
    "    # TODO: Your code here\n",
    "    for i in range(num_samples):\n",
    "      word = model.random_word(context)\n",
    "      if word in emp_distr:\n",
    "          emp_distr[word]+=1/num_samples\n",
    "      else:\n",
    "        emp_distr[word]=1/num_samples\n",
    "    \n",
    "    return emp_distr"
   ]
  },
  {
   "cell_type": "code",
   "execution_count": 15,
   "metadata": {
    "colab": {
     "base_uri": "https://localhost:8080/"
    },
    "id": "5tLy5kSjl3GX",
    "outputId": "8ab87322-db48-40ef-f03f-dac0614b9ab1",
    "pycharm": {
     "name": "#%%\n"
    },
    "scrolled": true,
    "tags": []
   },
   "outputs": [
    {
     "data": {
      "text/plain": [
       "{'thrown': 0.014000000000000005,\n",
       " 'recognized': 0.02000000000000001,\n",
       " 'only': 0.02100000000000001,\n",
       " 'not': 0.01900000000000001,\n",
       " 'of': 0.010000000000000002,\n",
       " 'landed': 0.010000000000000002,\n",
       " 'noticed': 0.016000000000000007,\n",
       " 'an': 0.010000000000000002,\n",
       " 'no': 0.057000000000000044,\n",
       " 'to': 0.046000000000000034,\n",
       " 'a': 0.10700000000000008,\n",
       " 'abandoned': 0.017000000000000008,\n",
       " 'lived': 0.009000000000000001,\n",
       " 'been': 0.10200000000000008,\n",
       " 'command': 0.011000000000000003,\n",
       " 'agreed': 0.012000000000000004,\n",
       " 'lost': 0.010000000000000002,\n",
       " 'done': 0.007,\n",
       " 'three': 0.013000000000000005,\n",
       " 'grain': 0.009000000000000001,\n",
       " 'the': 0.03000000000000002,\n",
       " 'orders': 0.015000000000000006,\n",
       " 'tried': 0.015000000000000006,\n",
       " 'built': 0.010000000000000002,\n",
       " 'first': 0.026000000000000016,\n",
       " 'deserved': 0.012000000000000004,\n",
       " 'quite': 0.011000000000000003,\n",
       " 'gained': 0.026000000000000016,\n",
       " 'altered': 0.014000000000000005,\n",
       " 'heard': 0.011000000000000003,\n",
       " 'had': 0.03100000000000002,\n",
       " 'brought': 0.02000000000000001,\n",
       " 'got': 0.017000000000000008,\n",
       " 'worn': 0.022000000000000013,\n",
       " 'found': 0.011000000000000003,\n",
       " 'engaged': 0.015000000000000006,\n",
       " 'forgotten': 0.012000000000000004,\n",
       " 'other': 0.015000000000000006,\n",
       " 'sent': 0.011000000000000003,\n",
       " 'nobody': 0.013000000000000005,\n",
       " 'each': 0.011000000000000003,\n",
       " 'paid': 0.012000000000000004,\n",
       " 'admitted': 0.011000000000000003,\n",
       " 'once': 0.011000000000000003,\n",
       " 'played': 0.014000000000000005,\n",
       " 'fully': 0.017000000000000008,\n",
       " 'ten': 0.012000000000000004,\n",
       " 'trusted': 0.017000000000000008,\n",
       " 'withdrawn': 0.008,\n",
       " 'everything': 0.010000000000000002,\n",
       " 'still': 0.013000000000000005,\n",
       " 'time': 0.007}"
      ]
     },
     "execution_count": 15,
     "metadata": {},
     "output_type": "execute_result"
    }
   ],
   "source": [
    "compute_empirical_distribution(trigramlm, ('we', 'have'), 1000)"
   ]
  },
  {
   "cell_type": "code",
   "execution_count": 17,
   "metadata": {
    "colab": {
     "base_uri": "https://localhost:8080/",
     "height": 46
    },
    "deletable": false,
    "editable": false,
    "id": "12AAUdZpl3GX",
    "outputId": "4612e040-151f-4360-c9dd-59748f20a7ac"
   },
   "outputs": [
    {
     "data": {
      "text/html": [
       "<p><strong><pre style='display: inline;'>ngramlm-empirical-distribution</pre></strong> passed!</p>"
      ],
      "text/plain": [
       "ngramlm-empirical-distribution results: All test cases passed!"
      ]
     },
     "execution_count": 17,
     "metadata": {},
     "output_type": "execute_result"
    }
   ],
   "source": [
    "grader.check(\"ngramlm-empirical-distribution\")"
   ]
  },
  {
   "cell_type": "markdown",
   "metadata": {
    "id": "9wOIHp1-l3GY",
    "pycharm": {
     "name": "#%% md\n"
    }
   },
   "source": [
    "<!-- BEGIN QUESTION -->\n",
    "\n",
    "__Question:__ Does the empirical probability match the output of `word_prob((\"by\", \"her\"), \"husband\")`? Could you explain why it matches or not? Could you propose a way to measure how the empirical distribution differs from the theoretical distribution? _(3 points)_ "
   ]
  },
  {
   "cell_type": "code",
   "execution_count": 28,
   "metadata": {
    "colab": {
     "base_uri": "https://localhost:8080/"
    },
    "id": "MyhnZn2KMyHZ",
    "outputId": "12ba1e06-ad77-4634-92ae-8ba5c644c79b"
   },
   "outputs": [
    {
     "name": "stdout",
     "output_type": "stream",
     "text": [
      "0.08888888888888889\n",
      "0.08900999999999819\n"
     ]
    }
   ],
   "source": [
    "print( trigramlm.word_prob((\"by\", \"her\"), \"husband\"))\n",
    "empirical_distribution = compute_empirical_distribution(trigramlm, ('by', 'her'), 100000)\n",
    "print(empirical_distribution['husband'])"
   ]
  },
  {
   "cell_type": "markdown",
   "metadata": {
    "id": "gej9Q0Ldl3GY",
    "pycharm": {
     "name": "#%% md\n"
    }
   },
   "source": [
    "__Answer:__ "
   ]
  },
  {
   "cell_type": "markdown",
   "metadata": {
    "id": "QjCgqKj4l3GY"
   },
   "source": [
    "when the number of samples is pretty large, the empirical probability match the output of word_prob quite well.\n",
    "we can measure the difference using the formula:(empirical_distribution-output_probability)/output_probability"
   ]
  },
  {
   "cell_type": "markdown",
   "metadata": {
    "id": "iy7Rtc7L6psV",
    "pycharm": {
     "name": "#%% md\n"
    }
   },
   "source": [
    "<!-- END QUESTION -->\n",
    "\n",
    "<!-- BEGIN QUESTION -->\n",
    "\n",
    "__Question:__ Generate a random text of length 100 words. Comment on the local and global semantics of the generated text. _(2 points)_"
   ]
  },
  {
   "cell_type": "markdown",
   "metadata": {
    "id": "kskAoByZl3GY",
    "pycharm": {
     "name": "#%% md\n"
    }
   },
   "source": [
    "__Answer:__"
   ]
  },
  {
   "cell_type": "markdown",
   "metadata": {
    "id": "LtyaXjtrl3GY"
   },
   "source": [
    "comment: the generated text has some natural parse, such as 'it was so', 'could not answer'. However, the total sentence is meaningless in terms of global semantics."
   ]
  },
  {
   "cell_type": "code",
   "execution_count": null,
   "metadata": {
    "colab": {
     "base_uri": "https://localhost:8080/"
    },
    "id": "gcSrXyhwl3GY",
    "outputId": "ebe0fff4-7b2f-41bf-d2a0-83c08c042f2f",
    "pycharm": {
     "name": "#%%\n"
    },
    "scrolled": true,
    "tags": []
   },
   "outputs": [
    {
     "name": "stdout",
     "output_type": "stream",
     "text": [
      "often after collecting alms and reckoning them off and his drawn in to dinner next day it was so constructed that one could not answer such a fool who trusts to luck in play dolokhov added and closed it and that the time this letter one of the conservatory she followed and the torturing pain in his uncomfortable position in which the sole object of his being in uniform and decorations of the company jerked his head on his way ~ ~ oh dear what s the elder had already seen the emperor without any orders to stop the french\n"
     ]
    }
   ],
   "source": [
    "# TODO: Your code here\n",
    "generated_text = ' '.join(trigramlm.random_text(100))\n",
    "print(generated_text)  # Please make sure this prints out a `str` instead of a `list`.\n",
    "#comment: the generated text has some natural parse, such as 'it was so', 'could not answer'. However, the total sentence is meaningless in terms of global semantics."
   ]
  },
  {
   "cell_type": "markdown",
   "metadata": {
    "id": "wjqzn5COl3GY",
    "pycharm": {
     "name": "#%% md\n"
    }
   },
   "source": [
    "<!-- END QUESTION -->\n",
    "\n",
    "__Question:__ Now train a 4-gram LM on the same data and generate a 100-word text again. Do you observe any differences between the outputs of the two models? _(2 points)_"
   ]
  },
  {
   "cell_type": "markdown",
   "metadata": {
    "id": "iepuif9Al3GY",
    "pycharm": {
     "name": "#%% md\n"
    }
   },
   "source": [
    "__Answer:__"
   ]
  },
  {
   "cell_type": "markdown",
   "metadata": {
    "id": "rs0ukwNMl3Ga"
   },
   "source": [
    "#the generated sentecnes by 4-gram LM are more grammatical . For example, this sentence \"the doctors are expecting a crisis\", is quite meanful\n",
    "#however, the whole sentence still cannot make any sense "
   ]
  },
  {
   "cell_type": "code",
   "execution_count": 89,
   "metadata": {
    "colab": {
     "base_uri": "https://localhost:8080/"
    },
    "id": "QFMvVRO4l3Ga",
    "outputId": "83fcc7d7-08ed-49ff-acde-a691a6a7be4e",
    "pycharm": {
     "name": "#%%\n"
    },
    "scrolled": true,
    "tags": []
   },
   "outputs": [
    {
     "data": {
      "text/plain": [
       "<__main__.NgramLM at 0x7fb1f8ecb4f0>"
      ]
     },
     "execution_count": 89,
     "metadata": {},
     "output_type": "execute_result"
    }
   ],
   "source": [
    "# You should train you 4-gram model here in the same way as training a trigram model\n",
    "# You should use the same `corpus` for training\n",
    "qgramlm =  NgramLM(4)\n",
    "for sentence in corpus:\n",
    "    qgramlm.update(sentence)\n",
    "qgramlm"
   ]
  },
  {
   "cell_type": "code",
   "execution_count": null,
   "metadata": {
    "colab": {
     "base_uri": "https://localhost:8080/"
    },
    "id": "4EKOoAijl3Ga",
    "outputId": "ccb2d39a-949f-494a-9d47-efd545c97db0",
    "pycharm": {
     "name": "#%%\n"
    },
    "tags": []
   },
   "outputs": [
    {
     "name": "stdout",
     "output_type": "stream",
     "text": [
      "the doctors are expecting a crisis ~ ~ ~ the party was very successful and quite like other parties he had seen before rode up to him and give the message dolgorukov had ordered him to be different from themselves and from everyone else in that drawing room were gathered by the emperor and that the advantage was now on our side ~ ~ ~ what was passing in lobnoe place that no one would recognize them were not at all said prince andrew ~ ~ ~ all the impossible orders inconsistent with the course of which he was conscious\n"
     ]
    }
   ],
   "source": [
    "# TODO: Your code here\n",
    "qgram_generated_text = ' '.join(qgramlm.random_text(100))\n",
    "print(qgram_generated_text)  # Please make sure this prints out a `str` instead of a `list`.\n"
   ]
  },
  {
   "cell_type": "markdown",
   "metadata": {
    "id": "dxh0pOSn9N1O",
    "pycharm": {
     "name": "#%% md\n"
    }
   },
   "source": [
    "### Evaluating the LM: Perplexity\n",
    "\n",
    "In the context of language modeling, perplexity measures how an LM predicts a sample. It is computed as the per word inverse probability of a held-out set:\n",
    "\n",
    "$$ Perplexity(W) = P(W_1 W_2 \\ldots W_N)^{-1/N} $$\n",
    "\n",
    "Complete the following function which computes the perplexity of an ngram language model given the class object and a dataset (represented as a list of strings as done earlier). _(8 points)_\n",
    "\n",
    "__Note 1:__ You may assume that the text is normalized as done before, so no text processing is required in the function.\n",
    "\n",
    "__Note 2:__ Consider performing computations in the log domain to avoid underflow errors. Recall the log equalities:\n",
    "\n",
    "$$ P = 2^{\\log_2 P} $$\n",
    "$$ \\log (a_1 a_2 \\ldots a_N)^{1/N} = \\frac{1}{N}\\left( \\log a_1 + \\log a_2 + \\ldots + \\log a_N \\right) $$"
   ]
  },
  {
   "cell_type": "code",
   "execution_count": 83,
   "metadata": {
    "id": "yg5Ezw1PK4fo",
    "pycharm": {
     "name": "#%%\n"
    },
    "tags": []
   },
   "outputs": [],
   "source": [
    "def perplexity(model: NgramLM, data: List[List[str]]) -> float:\n",
    "    \"\"\"Function to compute perplexity of ngram LM.\n",
    "\n",
    "    Parameters\n",
    "    ----------\n",
    "    model : NgramLM\n",
    "        A class object denoted a trained `NgramLM`.\n",
    "    text : List[List[str]]\n",
    "        A list of sentences, where each sentence is a list of tokens.\n",
    "\n",
    "    Returns\n",
    "    -------\n",
    "    perp : float\n",
    "        Perplexity of the LM on given string.\n",
    "    \"\"\"\n",
    "    \"\"\"\n",
    "    I madde three mistakes here\n",
    "    1.#Ngram should be a counter. You should consider all counts for each ngram instead of only one.\n",
    "    2.#exp ^ not pow((xcent),2)\n",
    "    3. should times -1\n",
    "    \"\"\"\n",
    "    #first generate ngrams\n",
    "    ngrams = generate_ngrams_sentences(data,n= model.n)\n",
    "    N = 0#ngrams.total() #len(ngrams)\n",
    "    perplexity = 0\n",
    "    xcent = 0 #cross entropy\n",
    "    \n",
    "    \n",
    "    for gram,count in ngrams.items():\n",
    "        \n",
    "        #update N\n",
    "        N += count\n",
    "        \n",
    "        context = gram[:-1]\n",
    "        word = gram[-1]\n",
    "\n",
    "        #compute the cross entropy\n",
    "        #print(context,word)\n",
    "        p_word = model.word_prob(tuple(context),word)\n",
    "        xcent += math.log2(p_word)*count if p_word != 0 else np.inf\n",
    "\n",
    "\n",
    "    xcent = xcent/N *(-1) if xcent!=np.inf else np.inf # donot forget that\n",
    "    #compute the perplexity\n",
    "    perplexity = 2**xcent #exp ^ not pow((xcent),2)\n",
    "    return perplexity\n"
   ]
  },
  {
   "cell_type": "code",
   "execution_count": 84,
   "metadata": {
    "colab": {
     "base_uri": "https://localhost:8080/"
    },
    "id": "14nrYrrBRTVf",
    "outputId": "3f2ad10b-e5af-4927-d42f-68116e962913"
   },
   "outputs": [
    {
     "name": "stdout",
     "output_type": "stream",
     "text": [
      "7.867363313142162\n",
      "6.504050574063861\n",
      "5.681905800776027\n",
      "inf\n",
      "14.014860475929732\n"
     ]
    }
   ],
   "source": [
    "#perplexity(trigramlm, ['hello , world !'.split()])\n",
    "print(perplexity(trigramlm, corpus[5:7]))\n",
    "print(perplexity(trigramlm, corpus[10:20]))\n",
    "print(perplexity(trigramlm, corpus[33:49]))\n",
    "print(perplexity(trigramlm, ['hello , world !'.split()]))\n",
    "print(perplexity(trigramlm, ['you like him very much'.split()]))"
   ]
  },
  {
   "cell_type": "code",
   "execution_count": 85,
   "metadata": {
    "colab": {
     "base_uri": "https://localhost:8080/",
     "height": 511
    },
    "deletable": false,
    "editable": false,
    "id": "__lPVrGXl3Ga",
    "outputId": "0a66adc3-1f57-4008-88e5-e3c7c0ec54da"
   },
   "outputs": [
    {
     "data": {
      "text/html": [
       "<p><strong><pre style='display: inline;'>ngramlm-perp-impl</pre></strong> passed!</p>"
      ],
      "text/plain": [
       "ngramlm-perp-impl results: All test cases passed!"
      ]
     },
     "execution_count": 85,
     "metadata": {},
     "output_type": "execute_result"
    }
   ],
   "source": [
    "grader.check(\"ngramlm-perp-impl\")"
   ]
  },
  {
   "cell_type": "markdown",
   "metadata": {
    "id": "drgo2ZhMgvTA",
    "pycharm": {
     "name": "#%% md\n"
    }
   },
   "source": [
    "__Question:__ What is the perplexity of the model on the training corpus? _(1 point)_"
   ]
  },
  {
   "cell_type": "code",
   "execution_count": 265,
   "metadata": {
    "colab": {
     "base_uri": "https://localhost:8080/"
    },
    "id": "eWiy10LSNhl2",
    "outputId": "29f8aae9-889c-448c-db70-eaab78afa62c",
    "pycharm": {
     "name": "#%%\n"
    },
    "tags": []
   },
   "outputs": [
    {
     "data": {
      "text/plain": [
       "7.118221877915706"
      ]
     },
     "execution_count": 265,
     "metadata": {},
     "output_type": "execute_result"
    }
   ],
   "source": [
    "# TODO: Your code here\n",
    "trigram_perp_on_training = perplexity(trigramlm, corpus)\n",
    "trigram_perp_on_training"
   ]
  },
  {
   "cell_type": "code",
   "execution_count": 87,
   "metadata": {
    "colab": {
     "base_uri": "https://localhost:8080/",
     "height": 426
    },
    "deletable": false,
    "editable": false,
    "id": "Nnqd4GPDl3Ga",
    "outputId": "5ffb9b96-be29-40bd-d830-da90a1730c4a"
   },
   "outputs": [
    {
     "data": {
      "text/html": [
       "<p><strong><pre style='display: inline;'>ngramlm-tri-perp-on-training</pre></strong> passed!</p>"
      ],
      "text/plain": [
       "ngramlm-tri-perp-on-training results: All test cases passed!"
      ]
     },
     "execution_count": 87,
     "metadata": {},
     "output_type": "execute_result"
    }
   ],
   "source": [
    "grader.check(\"ngramlm-tri-perp-on-training\")"
   ]
  },
  {
   "cell_type": "markdown",
   "metadata": {
    "id": "x6kIPjp58mDa",
    "pycharm": {
     "name": "#%% md\n"
    }
   },
   "source": [
    "__Question:__ What is the perplexity of the 4-gram LM you trained earlier on the training corpus? _(1 point)_"
   ]
  },
  {
   "cell_type": "code",
   "execution_count": 90,
   "metadata": {
    "id": "99eNyxeZl3Gb",
    "pycharm": {
     "name": "#%%\n"
    },
    "tags": []
   },
   "outputs": [
    {
     "data": {
      "text/plain": [
       "2.2828663871793937"
      ]
     },
     "execution_count": 90,
     "metadata": {},
     "output_type": "execute_result"
    }
   ],
   "source": [
    "# TODO: Your code here\n",
    "qgram_perp_on_training = perplexity(qgramlm, corpus)\n",
    "qgram_perp_on_training"
   ]
  },
  {
   "cell_type": "code",
   "execution_count": 91,
   "metadata": {
    "deletable": false,
    "editable": false,
    "id": "TWaHcLUil3Gb"
   },
   "outputs": [
    {
     "data": {
      "text/html": [
       "<p><strong><pre style='display: inline;'>ngramlm-quad-perp-on-training</pre></strong> passed!</p>"
      ],
      "text/plain": [
       "ngramlm-quad-perp-on-training results: All test cases passed!"
      ]
     },
     "execution_count": 91,
     "metadata": {},
     "output_type": "execute_result"
    }
   ],
   "source": [
    "grader.check(\"ngramlm-quad-perp-on-training\")"
   ]
  },
  {
   "cell_type": "markdown",
   "metadata": {
    "id": "giDoTrs9ORpD",
    "pycharm": {
     "name": "#%% md\n"
    }
   },
   "source": [
    "You will now use your above implementation to evaluate your model on a small held out development set from Leo Tolstoy's Anna Karenina. First we download and preprocess this data similar to how we did for the training set."
   ]
  },
  {
   "cell_type": "code",
   "execution_count": 92,
   "metadata": {
    "id": "wwmOEmrt5sMW",
    "pycharm": {
     "name": "#%%\n"
    }
   },
   "outputs": [],
   "source": [
    "# Process the text file to get the contents of Chapter 1\n",
    "try:\n",
    "    with open('1399-0.txt', 'r') as file:\n",
    "        dev_raw = file.read().replace('\\n', ' ')\n",
    "except FileNotFoundError:\n",
    "    with open('../../1399-0.txt', 'r') as file:\n",
    "        dev_raw = file.read().replace('\\n', ' ')"
   ]
  },
  {
   "cell_type": "code",
   "execution_count": 93,
   "metadata": {
    "id": "zWqwXVzo6UJj",
    "pycharm": {
     "name": "#%%\n"
    },
    "scrolled": true
   },
   "outputs": [
    {
     "name": "stdout",
     "output_type": "stream",
     "text": [
      "Dev data has 15882 sentences\n"
     ]
    }
   ],
   "source": [
    "pattern = \"Chapter 1(.*)Chapter 2\"\n",
    "dev_ch1 = re.search(pattern, dev_raw).group(1)\n",
    "\n",
    "sentences = sent_tokenize(dev_ch1)\n",
    "\n",
    "dev_text = []\n",
    "tokenizer = RegexpTokenizer(r'\\w+')\n",
    "for sentence in sentences:\n",
    "    tokens = tokenizer.tokenize(sentence)\n",
    "    dev_text.append([token.lower() for token in tokens])\n",
    "\n",
    "print(\"Dev data has {} sentences\".format(len(dev_text)))"
   ]
  },
  {
   "cell_type": "markdown",
   "metadata": {
    "id": "Mi8ach2U7Tx3",
    "pycharm": {
     "name": "#%% md\n"
    }
   },
   "source": [
    "__Question:__ Compute the perplexity of the 3-gram LM on the development set prepared above. _(1 points)_"
   ]
  },
  {
   "cell_type": "code",
   "execution_count": 94,
   "metadata": {
    "id": "T-qiPw6p7PcG",
    "pycharm": {
     "name": "#%%\n"
    },
    "tags": []
   },
   "outputs": [
    {
     "data": {
      "text/plain": [
       "inf"
      ]
     },
     "execution_count": 94,
     "metadata": {},
     "output_type": "execute_result"
    }
   ],
   "source": [
    "# TODO: Your code here\n",
    "trigram_perp_on_dev = perplexity(trigramlm, dev_text)\n",
    "trigram_perp_on_dev"
   ]
  },
  {
   "cell_type": "code",
   "execution_count": 95,
   "metadata": {
    "deletable": false,
    "editable": false,
    "id": "FeWlDzdYl3Gb"
   },
   "outputs": [
    {
     "data": {
      "text/html": [
       "<p><strong><pre style='display: inline;'>ngramlm-tri-perp-on-dev</pre></strong> passed!</p>"
      ],
      "text/plain": [
       "ngramlm-tri-perp-on-dev results: All test cases passed!"
      ]
     },
     "execution_count": 95,
     "metadata": {},
     "output_type": "execute_result"
    }
   ],
   "source": [
    "grader.check(\"ngramlm-tri-perp-on-dev\")"
   ]
  },
  {
   "cell_type": "markdown",
   "metadata": {
    "id": "WDho_CV2l3Gb",
    "pycharm": {
     "name": "#%% md\n"
    }
   },
   "source": [
    "<!-- BEGIN QUESTION -->\n",
    "\n",
    "__Question:__ What is the reason for this perplexity value? _(2 points)_"
   ]
  },
  {
   "cell_type": "markdown",
   "metadata": {
    "id": "M681Cczrl3Gb",
    "pycharm": {
     "name": "#%% md\n"
    }
   },
   "source": [
    "__Answer:__"
   ]
  },
  {
   "cell_type": "markdown",
   "metadata": {
    "id": "hApl4YF1l3Gb"
   },
   "source": [
    "It is possible that some words on the development set do not appear on the training corpus"
   ]
  },
  {
   "cell_type": "markdown",
   "metadata": {
    "id": "PJRKm-HE8B7Q",
    "pycharm": {
     "name": "#%% md\n"
    }
   },
   "source": [
    "<!-- END QUESTION -->\n",
    "\n",
    "### Zeros and generalization\n",
    "\n",
    "From the above, you would have realized that our trigram LM in the barebones setting is probably not robust enough to be deployed in general settings, due to the data sparsity problem. This problem is dealt with by using \"smoothing\" methods for unseen n-grams and the `<UNK>` token for OOV words.\n",
    "\n",
    "In this section, you will implement Laplace (add-one) smoothing and use the `<UNK>` token for handling OOV words in the evaluation set. Complete the following class definition to achieve this. _(15 points)_"
   ]
  },
  {
   "cell_type": "code",
   "execution_count": 102,
   "metadata": {
    "id": "v6a4wXKvTf6E",
    "pycharm": {
     "name": "#%%\n"
    },
    "tags": []
   },
   "outputs": [],
   "source": [
    "class NgramLMWithLaplaceSmoothing(NgramLM):\n",
    "    \"\"\"An n-gram language model with OOV handling and Laplace smoothing.\n",
    "    This class inherits all bahaviors from previous defined `NgramLM`.\n",
    "    Please be careful with the implementations here as you have to be consistent\n",
    "    with all interfaces.\n",
    "    \"\"\"\n",
    "\n",
    "    def __init__(self, n: int):\n",
    "        super(NgramLMWithLaplaceSmoothing, self).__init__(n=n)\n",
    "    \n",
    "    def next_word_candidates(self, context: Tuple[str]) -> List[str]:\n",
    "        \"\"\"Generates a list of tokens based on the given context, which would be\n",
    "        later used as candidates for the next word prediction.\n",
    "        \n",
    "        Note: in this overriden version, you should deal with the OOV words.\n",
    "        \n",
    "        Parameters\n",
    "        ----------\n",
    "        context : Tuple[str]\n",
    "            A tuple of words describing the context for the next word.\n",
    "            \n",
    "        Returns\n",
    "        -------\n",
    "        words : List[str]\n",
    "            A list of candidate tokens for the next word.\n",
    "        \"\"\"\n",
    "        # add UNK to the possible word candidates\n",
    "        return list(self.contexts[context])+['<UNK>']\n",
    "\n",
    "    def word_prob(self, context: Tuple[str], word: str) -> float:\n",
    "        \"\"\"Returns the probability of a word given a context. The context is a\n",
    "        string of words, with length n-1. \n",
    "        \n",
    "        Note: in this overriden version, you should deal with the OOV words.\n",
    "        \n",
    "        Parameters\n",
    "        ----------\n",
    "        context : Tuple[str]\n",
    "            A tuple of words describing the context for the next word.\n",
    "        word : str\n",
    "            The next word that the probability is computed for.\n",
    "            \n",
    "        Returns\n",
    "        -------\n",
    "        prob : float\n",
    "            The estimated probability of the next word given the context.\n",
    "        \"\"\"\n",
    "        #c(triword)+1/c(context)+V\n",
    "        #if we met a new word,\n",
    "        V = len(self.vocab)+1#number of vocabulary,plus oov word\n",
    "        triwords = context+tuple([word])\n",
    "        count_context = self.ngram_contexts[context] +V#\n",
    "        count_word = self.ngrams[triwords]+1 #add-1 smooth\n",
    "        #if count_context ==0:\n",
    "        #  return 0\n",
    "        #else:\n",
    "        return float(count_word/count_context)"
   ]
  },
  {
   "cell_type": "code",
   "execution_count": 103,
   "metadata": {
    "id": "TXX1--Dxl3Gb",
    "pycharm": {
     "name": "#%%\n"
    },
    "tags": []
   },
   "outputs": [],
   "source": [
    "# Training block for a trigram language model with Laplace smoothing\n",
    "trigramlm_laplace = NgramLMWithLaplaceSmoothing(3)\n",
    "for sentence in corpus:\n",
    "    trigramlm_laplace.update(sentence)"
   ]
  },
  {
   "cell_type": "code",
   "execution_count": 264,
   "metadata": {},
   "outputs": [
    {
     "data": {
      "text/plain": [
       "3992.4146497007246"
      ]
     },
     "execution_count": 264,
     "metadata": {},
     "output_type": "execute_result"
    }
   ],
   "source": [
    "\n",
    "laplace_training= perplexity(trigramlm_laplace, corpus)\n",
    "laplace_training"
   ]
  },
  {
   "cell_type": "markdown",
   "metadata": {
    "id": "rE7UsXK5UL-_",
    "pycharm": {
     "name": "#%% md\n"
    }
   },
   "source": [
    "__Question:__ Report the perplexity of the new LM on the development data. (3 points)"
   ]
  },
  {
   "cell_type": "code",
   "execution_count": 104,
   "metadata": {
    "id": "bVQdsbGRl3Gb",
    "pycharm": {
     "name": "#%%\n"
    },
    "tags": []
   },
   "outputs": [
    {
     "data": {
      "text/plain": [
       "7353.840799278769"
      ]
     },
     "execution_count": 104,
     "metadata": {},
     "output_type": "execute_result"
    }
   ],
   "source": [
    "# TODO: Your code here\n",
    "trigram_laplace_perp_on_training = perplexity(trigramlm_laplace, dev_text)\n",
    "trigram_laplace_perp_on_training"
   ]
  },
  {
   "cell_type": "markdown",
   "metadata": {
    "id": "lJd1baM1l3Gc",
    "pycharm": {
     "name": "#%% md\n"
    }
   },
   "source": [
    "<!-- BEGIN QUESTION -->\n",
    "\n",
    "__Question:__ Can you think of a different way to solve the OOV problem? _(2 points)_"
   ]
  },
  {
   "cell_type": "markdown",
   "metadata": {
    "id": "h2lLlbjDl3Gc",
    "pycharm": {
     "name": "#%% md\n"
    }
   },
   "source": [
    "__Answer:__"
   ]
  },
  {
   "cell_type": "markdown",
   "metadata": {
    "id": "88-jmIt-l3Gc"
   },
   "source": [
    "we can use character level rather than word level, or use byte pair encoding."
   ]
  },
  {
   "cell_type": "markdown",
   "metadata": {
    "id": "14Kjgo2NSc1A",
    "pycharm": {
     "name": "#%% md\n"
    }
   },
   "source": [
    "<!-- END QUESTION -->\n",
    "\n",
    "__Question (extra credit):__ Laplace smoothing is a relatively naive smoothing method. In the lectures, you learnt about more advanced methods: Good-Turing, Backoff, Interpolation, Kneser-Ney. Implement any one of these smoothing methods (pick your favorite). Evaluate the resulting trigram LM on the development data and report the perplexity. Could you get some improvements (an improvement from the baseline would secure you to get an extra credit of 10 points)? _(10 points)_\n",
    "\n",
    "__Leaderboard:__ It would be interesting to explore different techniques or combinations of techniques to improve trigram language models. For this extra credit question, we also introduce a leaderboard for people to compete their designs of language models. To encourage participantion, the top 15% and 30% would be given another 10 points and 5 points extra credit respectively. Have fun :-)"
   ]
  },
  {
   "cell_type": "code",
   "execution_count": null,
   "metadata": {
    "id": "HapmEPF4cDUa",
    "pycharm": {
     "name": "#%%\n"
    },
    "tags": []
   },
   "outputs": [],
   "source": [
    "class ImprovedNgramLM(NgramLM):\n",
    "    \"\"\"An improved version of n-gram language model with OOV handling.\n",
    "    This class inherits all bahaviors from previous defined `NgramLM`.\n",
    "    Please be careful with the implementations here as you have to be consistent\n",
    "    with all interfaces.\n",
    "    \n",
    "    Note: you could override more methods provided by the base class, but you have \n",
    "    to maintain their ability of handling the same types of inputs and outputs.\n",
    "    \"\"\"\n",
    "\n",
    "    def __init__(self, n: int):\n",
    "        super(ImprovedNgramLM, self).__init__(n=n)\n",
    "        \n",
    "        # TODO: Your code here, if you would like to change the behavior of init.    \n",
    "    \n",
    "    def next_word_candidates(self, context: Tuple[str]) -> List[str]:\n",
    "        \"\"\"Generates a list of tokens based on the given context, which would be\n",
    "        later used as candidates for the next word prediction.\n",
    "        \n",
    "        Note: in this overriden version, you should deal with the OOV words.\n",
    "        \n",
    "        Parameters\n",
    "        ----------\n",
    "        context : Tuple[str]\n",
    "            A tuple of words describing the context for the next word.\n",
    "            \n",
    "        Returns\n",
    "        -------\n",
    "        words : List[str]\n",
    "            A list of candidate tokens for the next word.\n",
    "        \"\"\"\n",
    "        # TODO: Your code here\n",
    "        ...\n",
    "\n",
    "    def word_prob(self, context: Tuple[str], word: str) -> float:\n",
    "        \"\"\"Returns the probability of a word given a context. The context is a\n",
    "        string of words, with length n-1. \n",
    "        \n",
    "        Note: in this overriden version, you should deal with the OOV words.\n",
    "        \n",
    "        Parameters\n",
    "        ----------\n",
    "        context : Tuple[str]\n",
    "            A tuple of words describing the context for the next word.\n",
    "        word : str\n",
    "            The next word that the probability is computed for.\n",
    "            \n",
    "        Returns\n",
    "        -------\n",
    "        prob : float\n",
    "            The estimated probability of the next word given the context.\n",
    "        \"\"\"\n",
    "        # TODO: Your code here\n",
    "        ..."
   ]
  },
  {
   "cell_type": "code",
   "execution_count": null,
   "metadata": {
    "id": "neDXt1Zwl3Gc",
    "pycharm": {
     "name": "#%%\n"
    },
    "tags": []
   },
   "outputs": [],
   "source": [
    "# Training block for a trigram language model\n",
    "improved_trigramlm = ImprovedNgramLM(3)\n",
    "for sentence in corpus:\n",
    "    improved_trigramlm.update(sentence)"
   ]
  },
  {
   "cell_type": "code",
   "execution_count": null,
   "metadata": {
    "deletable": false,
    "editable": false,
    "id": "gYmH4KZ3l3Gc"
   },
   "outputs": [],
   "source": [
    "grader.check(\"ngramlm-improvement-impl\")"
   ]
  },
  {
   "cell_type": "markdown",
   "metadata": {
    "id": "gwOF-lAWVE94",
    "pycharm": {
     "name": "#%% md\n"
    }
   },
   "source": [
    "## Part 2: Parsing and the CYK algorithm\n",
    "\n",
    "In the lecture on Syntax, you learnt about parsing algorithms, including the bottom-up CYK algorithm. In this section, you will implement the CYK algorithm for computing the parse tree of a sentence given a grammar.\n",
    "\n",
    "You may look at the pseudocode on [Wikipedia](https://en.wikipedia.org/wiki/CYK_algorithm#As_pseudocode) or refer to descriptions of the CYK algorithm online (such as [this](https://courses.engr.illinois.edu/cs373/sp2009/lectures/lect_15.pdf)), but you may not copy code directly from another source. The objective of this exercise is to familiarize yourself with parsing.\n",
    "\n",
    "First, we will provide some starter code to load a simple grammar which can be used to test your implementation. The CYK algorithm only works with context-free grammars (CFGs) in the [Chomsky Normal Form (CNF)](https://en.wikipedia.org/wiki/Chomsky_normal_form), but any CFG can be represented as an equivalent CNF. You can use NLTK to check if the grammar is in CNF."
   ]
  },
  {
   "cell_type": "code",
   "execution_count": 105,
   "metadata": {
    "id": "44xCk4nMYVWL",
    "pycharm": {
     "name": "#%%\n"
    }
   },
   "outputs": [],
   "source": [
    "# grammar rules\n",
    "\n",
    "cfg_rules = \"\"\"\n",
    "S -> NP VP\n",
    "PP -> P NP\n",
    "NP -> Det N\n",
    "NP -> Det N PP\n",
    "NP -> 'I'\n",
    "VP -> V NP\n",
    "VP -> VP PP\n",
    "Det -> 'an'\n",
    "Det -> 'my'\n",
    "N -> 'elephant'\n",
    "N -> 'pajamas'\n",
    "V -> 'shot'\n",
    "P -> 'in'\n",
    "\"\"\""
   ]
  },
  {
   "cell_type": "markdown",
   "metadata": {
    "id": "npLfx9CveUeI",
    "pycharm": {
     "name": "#%% md\n"
    }
   },
   "source": [
    "__Question:__ Use NLTK to check if the grammar `cfg` is in the Chomsky Normal Form. _(1 point)_"
   ]
  },
  {
   "cell_type": "code",
   "execution_count": 111,
   "metadata": {
    "id": "SVY6CyYhc1zn",
    "pycharm": {
     "name": "#%%\n"
    },
    "tags": []
   },
   "outputs": [
    {
     "data": {
      "text/plain": [
       "False"
      ]
     },
     "execution_count": 111,
     "metadata": {},
     "output_type": "execute_result"
    }
   ],
   "source": [
    "# TODO: Your code here\n",
    "# Note: \n",
    "# `is_cfg_cnf` should be the function name without executing it (by removing `()`).\n",
    "# Executing this cell should give you a boolean result indicating whether the given CFG\n",
    "# is in the Chomsky Normal Form.\n",
    "from nltk import CFG\n",
    "def is_cfg_cnf(strings):\n",
    "    rules = nltk.grammar.CFG.fromstring(strings)\n",
    "    return CFG.is_chomsky_normal_form(rules)\n",
    "is_cfg_cnf(cfg_rules)"
   ]
  },
  {
   "cell_type": "markdown",
   "metadata": {
    "id": "uatLXceVepso",
    "pycharm": {
     "name": "#%% md\n"
    }
   },
   "source": [
    "__Question:__ Convert the above CFG into CNF (use pen and paper) and create a new grammar using it. Use NLTK to verify if it is in CNF. _(4 points)_\n",
    "\n",
    "Here are the steps to convert any CFG into a CNF:\n",
    "\n",
    "1. Eliminate start symbol from the RHS. If the start symbol S is at the right-hand side of any production, create a new production as: S1 -> S\n",
    "2. If CFG contains null, unit or useless production rules, eliminate them.\n",
    "3. Eliminate terminals from RHS if they exist with other terminals or non-terminals.\n",
    "4. Eliminate RHS with more than two non-terminals.\n",
    "\n",
    "(Hint: There is only one offending rule in the above grammar.)"
   ]
  },
  {
   "cell_type": "code",
   "execution_count": 112,
   "metadata": {
    "id": "qgnhok80g5io",
    "pycharm": {
     "name": "#%%\n"
    },
    "tags": []
   },
   "outputs": [
    {
     "data": {
      "text/plain": [
       "True"
      ]
     },
     "execution_count": 112,
     "metadata": {},
     "output_type": "execute_result"
    }
   ],
   "source": [
    "# Write the CNF grammar here as a string\n",
    "\n",
    "# TODO: Your code here\n",
    "cnf_cfg_rules = \"\"\"\n",
    "S -> NP VP\n",
    "PP -> P NP\n",
    "NP -> Det N\n",
    "NP -> NP PP\n",
    "NP -> 'I'\n",
    "VP -> V NP\n",
    "VP -> VP PP\n",
    "Det -> 'an'\n",
    "Det -> 'my'\n",
    "N -> 'elephant'\n",
    "N -> 'pajamas'\n",
    "V -> 'shot'\n",
    "P -> 'in'\n",
    "\"\"\"\n",
    "is_cfg_cnf(cnf_cfg_rules)"
   ]
  },
  {
   "cell_type": "code",
   "execution_count": 211,
   "metadata": {},
   "outputs": [
    {
     "name": "stdout",
     "output_type": "stream",
     "text": [
      "S -> NP VP\n",
      "S\n",
      "(NP, VP)\n",
      "False\n",
      "True\n",
      "NP\n",
      "NP\n"
     ]
    }
   ],
   "source": [
    "grammar = CFG.fromstring(cnf_cfg_rules)\n",
    "rule =grammar.productions()[0]\n",
    "print(rule)\n",
    "print(rule.lhs())\n",
    "print(rule.rhs())\n",
    "print(rule.is_lexical())\n",
    "print(rule.is_nonlexical())\n",
    "rhs_0 = rule.rhs()[0]\n",
    "print(rhs_0)\n",
    "print(rhs_0.symbol())"
   ]
  },
  {
   "cell_type": "code",
   "execution_count": 214,
   "metadata": {},
   "outputs": [
    {
     "ename": "AttributeError",
     "evalue": "'str' object has no attribute 'symbol'",
     "output_type": "error",
     "traceback": [
      "\u001b[0;31m---------------------------------------------------------------------------\u001b[0m",
      "\u001b[0;31mAttributeError\u001b[0m                            Traceback (most recent call last)",
      "\u001b[0;32m<ipython-input-214-9fceed7de7b4>\u001b[0m in \u001b[0;36m<module>\u001b[0;34m\u001b[0m\n\u001b[0;32m----> 1\u001b[0;31m \u001b[0mrule\u001b[0m \u001b[0;34m=\u001b[0m\u001b[0mgrammar\u001b[0m\u001b[0;34m.\u001b[0m\u001b[0mproductions\u001b[0m\u001b[0;34m(\u001b[0m\u001b[0;34m)\u001b[0m\u001b[0;34m[\u001b[0m\u001b[0;34m-\u001b[0m\u001b[0;36m1\u001b[0m\u001b[0;34m]\u001b[0m\u001b[0;34m.\u001b[0m\u001b[0mrhs\u001b[0m\u001b[0;34m(\u001b[0m\u001b[0;34m)\u001b[0m\u001b[0;34m[\u001b[0m\u001b[0;36m0\u001b[0m\u001b[0;34m]\u001b[0m\u001b[0;34m.\u001b[0m\u001b[0msymbol\u001b[0m\u001b[0;34m(\u001b[0m\u001b[0;34m)\u001b[0m\u001b[0;34m\u001b[0m\u001b[0;34m\u001b[0m\u001b[0m\n\u001b[0m\u001b[1;32m      2\u001b[0m \u001b[0mprint\u001b[0m\u001b[0;34m(\u001b[0m\u001b[0mrule\u001b[0m\u001b[0;34m)\u001b[0m\u001b[0;34m\u001b[0m\u001b[0;34m\u001b[0m\u001b[0m\n",
      "\u001b[0;31mAttributeError\u001b[0m: 'str' object has no attribute 'symbol'"
     ]
    }
   ],
   "source": [
    "rule =grammar.productions()[-1].rhs()[0].symbol()\n",
    "print(rule)"
   ]
  },
  {
   "cell_type": "code",
   "execution_count": 215,
   "metadata": {},
   "outputs": [
    {
     "name": "stdout",
     "output_type": "stream",
     "text": [
      "{('NP', 'VP'): 'S', ('P', 'NP'): 'PP', ('Det', 'N'): 'NP', ('NP', 'PP'): 'NP', ('I',): 'NP', ('V', 'NP'): 'VP', ('VP', 'PP'): 'VP', ('an',): 'Det', ('my',): 'Det', ('elephant',): 'N', ('pajamas',): 'N', ('shot',): 'V', ('in',): 'P'}\n"
     ]
    }
   ],
   "source": [
    "table ={} #(child1, child2):symbol\n",
    "for rule in grammar.productions():\n",
    "    rhs = rule.rhs() #tuple\n",
    "    #append this rule to the table \n",
    "    \n",
    "    rhs = tuple([e.symbol() for e in rhs]) if len(rhs)>1 else rhs\n",
    "    table[rhs] = rule.lhs().symbol()\n",
    "print(table)"
   ]
  },
  {
   "cell_type": "markdown",
   "metadata": {
    "id": "hkL26o73dKJq",
    "pycharm": {
     "name": "#%% md\n"
    }
   },
   "source": [
    "You can now use the above grammar and the sentence: _\"I shot an elephant in my pajamas\"_ to demonstrate your implementation of the CYK parser.\n",
    "\n",
    "Complete the following code block to implement the parser. We have provided the definition of the Node class which stores a non-terminal, and some boilerplate code to ease you into the implementation. Your main task is to implement the `parse()` function, which generates the parse table in a bottom-up manner. The `parse_table` in the `CYKParser` class below can be thought of as a table which contains number of rows equal to the number of words in the sentence. _(25 points)_\n",
    "\n",
    "_Note_:\n",
    "\n",
    "We recommend reading the usage of [NLTK grammar object](https://www.nltk.org/howto/grammar.html) as we would parse the grammar to this object. It allows us to easily play with different grammar production rules. Sample usages (`grammar` is a `nltk.grammar.CFG` object instantiated from a given grammar):\n",
    "  - `grammar.productions()`: list all production rules defined in the grammar.\n",
    "  - `rule_i = grammar.productions()[i]`: get the ith rule from the grammar.\n",
    "  - `rule_i.lhs()`: get the LHS for the given rule.\n",
    "  - `rule_i.rhs()`: get the RHS for the given rule.\n",
    "  - `rule_i.is_lexical()`: determine whether it is a terminal rule.\n",
    "  - `rule_i.is_nonlexical()`: determine whether it is a non-terminal rule.\n",
    "  - `rhs_0 = rule_i.rhs()[0]`: get the first element on the RHS for the given rule.\n",
    "  - `rhs_0.symbol()`: get the `str` symbol of the RHS element (this also applies to the LHS element).\n",
    "  \n",
    "_Hint: It may be beneficial to first run through the algorithm for the given grammar and the sentence on pen and paper._"
   ]
  },
  {
   "cell_type": "code",
   "execution_count": 260,
   "metadata": {
    "id": "sk2mYJWnhomu",
    "pycharm": {
     "name": "#%%\n"
    },
    "tags": []
   },
   "outputs": [],
   "source": [
    "class Node:\n",
    "    \"\"\" Equivalent to a non-terminal. Since our grammar is CNF, a node can have at\n",
    "    most 2 children. Following 2 cases are possible:\n",
    "    \n",
    "    Case 1 -> child1 is a terminal symbol\n",
    "    Case 2 -> both child1 and child2 are Nodes.\n",
    "    \"\"\"\n",
    "\n",
    "    def __init__(self, symbol, child1, child2=None):\n",
    "        self.symbol = symbol\n",
    "        self.child1 = child1\n",
    "        self.child2 = child2\n",
    "\n",
    "    def __repr__(self):\n",
    "        \"\"\"Returns the string representation of a Node object.\"\"\"\n",
    "        return self.symbol\n",
    "    \n",
    "    def generate_tree(self) -> str:\n",
    "        \"\"\"Generates the string representation of the tree rooted at the current node.\n",
    "        It is done via pre-order tree traversal.\n",
    "        \n",
    "        Returns\n",
    "        -------\n",
    "        str_tree : str\n",
    "            The tree in its string form.\n",
    "        \"\"\"\n",
    "        if self.child2 is None:\n",
    "            return f\"[{self.symbol} '{self.child1}']\"\n",
    "        return f\"[{self.symbol} {self.child1.generate_tree()} {self.child2.generate_tree()}]\"\n",
    "    \n",
    "    \n",
    "class CYKParser(object):\n",
    "    \"\"\"A CYK parser which is able to parse any grammar in CNF. The parser object\n",
    "    is created from a CNF grammar and can be used to parse any sentence.\n",
    "    \"\"\"\n",
    "\n",
    "    def __init__(self, grammar: str):\n",
    "        \"\"\"Creates a new parser object.\n",
    "\n",
    "        Parameters\n",
    "        ----------\n",
    "        grammar : str\n",
    "            Input grammar as a string of rules.\n",
    "        \"\"\"\n",
    "        self.grammar: nltk.grammar.CFG = nltk.grammar.CFG.fromstring(grammar)\n",
    "            \n",
    "    def print_tree(self, parse_table: List[List[List[Node]]]):\n",
    "        \"\"\"Prints the parse tree starting with the start symbol.\n",
    "        \"\"\"\n",
    "        start_symbol = self.grammar.start().symbol()\n",
    "        final_nodes = [n for n in parse_table[-1][0] if n.symbol == start_symbol]\n",
    "        if final_nodes:\n",
    "            print(\"\\nPossible parse(s):\")\n",
    "            trees = [node.generate_tree() for node in final_nodes]\n",
    "            for tree in trees:\n",
    "                print(tree)\n",
    "        else:\n",
    "            print(\"The given sentence is not contained in the language produced by the given grammar!\")\n",
    "\n",
    "    def parse(self, sentence: List[str]) -> List[List[List[Node]]]:\n",
    "        \"\"\"Does the actual parsing according to the CYK algorithm.\n",
    "        \n",
    "        Parameters\n",
    "        ----------\n",
    "        sentence : List[str]\n",
    "            An input sentence in the form of list of tokens.\n",
    "        \n",
    "        Returns\n",
    "        -------\n",
    "        parse_table : List[List[List[Node]]]\n",
    "            The resulting parse table for the sentence under the grammar.\n",
    "        \"\"\"\n",
    "        \"\"\"\n",
    "        we could build a hashtable to store (child1, child2):symbol\n",
    "        \"\"\"\n",
    "        table ={} #(child1, child2):symbol\n",
    "        for rule in self.grammar.productions():\n",
    "            rhs = rule.rhs() #tuple\n",
    "            #append this rule to the table\n",
    "            rhs = tuple([e.symbol() for e in rhs]) if len(rhs)>1 else rhs\n",
    "            table[rhs] = rule.lhs().symbol()\n",
    "        #self.table = table\n",
    "        \n",
    "        num_tokens = len(sentence)\n",
    "        # parse_table[y][x] is the list of nodes in the x+1 cell\n",
    "        # of y+1 row in the table. That cell covers the word below it\n",
    "        # and y more words after.\n",
    "        parse_table: List[List[List[Node]]] = [[[] for x in range(num_tokens - y)] for y in range(num_tokens)]\n",
    "        #first initializa\n",
    "        for i in range(len(sentence)):\n",
    "            word = sentence[i] #word is the child1\n",
    "            #make sure that the word exist in the grammar\n",
    "            if tuple([word]) in table:\n",
    "                mom = table[tuple([word])]\n",
    "                newnode = Node(mom,word)\n",
    "                parse_table[0][i].append(newnode)\n",
    "        \n",
    "        for width in range(1,num_tokens):\n",
    "            for start in range (0,num_tokens-width):\n",
    "                end = start+width\n",
    "                for middle in range(start,end):\n",
    "                    #X --> Y Z\n",
    "                    #X is parse_table[width][start]\n",
    "                    #Y is parse_table[width = middle-start][start] start to middle\n",
    "                    #Z is parse_table[width = width-(middle-start)-1][middle+1]\n",
    "                    #print(width,start,middle,end)\n",
    "                    \n",
    "                    for child1 in parse_table[middle-start][start]:\n",
    "                        for child2 in parse_table[width-(middle-start)-1][middle+1]:\n",
    "                            #print(((middle-start),start),((width-(middle-start)-1),middle+1))\n",
    "                            #print(child1,child2,(child1.symbol, child2.symbol))\n",
    "                            if child1 and child2 and(child1.symbol, child2.symbol) in table:\n",
    "                                mom = table[(child1.symbol, child2.symbol)]\n",
    "                                newnode = Node(mom,child1,child2) #symbol, child1, child2\n",
    "                                #we find the mom,put the mom node into parse[width][start]\n",
    "                                #if newnode not in parse_table[width][start]:\n",
    "                                parse_table[width][start].append(newnode)\n",
    "        \n",
    "        \n",
    "        return parse_table"
   ]
  },
  {
   "cell_type": "code",
   "execution_count": 256,
   "metadata": {},
   "outputs": [],
   "source": [
    "#parser.table"
   ]
  },
  {
   "cell_type": "code",
   "execution_count": 261,
   "metadata": {
    "id": "cbDKhmkgCGmu",
    "pycharm": {
     "name": "#%%\n"
    },
    "scrolled": true,
    "tags": []
   },
   "outputs": [
    {
     "name": "stdout",
     "output_type": "stream",
     "text": [
      "[[[NP], [V], [Det], [N], [P], [Det], [N]], [[], [], [NP], [], [], [NP]], [[], [VP], [], [], [PP]], [[S], [], [], []], [[], [], [NP]], [[], [VP, VP]], [[S, S]]]\n"
     ]
    }
   ],
   "source": [
    "parser = CYKParser(cnf_cfg_rules)\n",
    "parse_table = parser.parse(\"I shot an elephant in my pajamas\".split())\n",
    "print(parse_table)"
   ]
  },
  {
   "cell_type": "code",
   "execution_count": 258,
   "metadata": {
    "id": "6uk7V8K9l3Gd",
    "pycharm": {
     "name": "#%%\n"
    },
    "tags": []
   },
   "outputs": [
    {
     "name": "stdout",
     "output_type": "stream",
     "text": [
      "\n",
      "Possible parse(s):\n",
      "[S [NP 'I'] [VP [V 'shot'] [NP [NP [Det 'an'] [N 'elephant']] [PP [P 'in'] [NP [Det 'my'] [N 'pajamas']]]]]]\n",
      "[S [NP 'I'] [VP [VP [V 'shot'] [NP [Det 'an'] [N 'elephant']]] [PP [P 'in'] [NP [Det 'my'] [N 'pajamas']]]]]\n"
     ]
    }
   ],
   "source": [
    "parser.print_tree(parse_table)"
   ]
  },
  {
   "cell_type": "code",
   "execution_count": 262,
   "metadata": {},
   "outputs": [],
   "source": [
    "#test case\n",
    "parse_table2 = parser.parse(\"I shot an elephant on my pajamas\".split())\n",
    "final_nodes2 = [n for n in parse_table2[-1][0] if n.symbol == start_symbol]"
   ]
  },
  {
   "cell_type": "code",
   "execution_count": 263,
   "metadata": {},
   "outputs": [
    {
     "data": {
      "text/plain": [
       "0"
      ]
     },
     "execution_count": 263,
     "metadata": {},
     "output_type": "execute_result"
    }
   ],
   "source": [
    "len(final_nodes2)"
   ]
  },
  {
   "cell_type": "code",
   "execution_count": null,
   "metadata": {},
   "outputs": [],
   "source": []
  }
 ],
 "metadata": {
  "colab": {
   "collapsed_sections": [],
   "provenance": []
  },
  "kernelspec": {
   "display_name": "Python 3",
   "language": "python",
   "name": "python3"
  },
  "language_info": {
   "codemirror_mode": {
    "name": "ipython",
    "version": 3
   },
   "file_extension": ".py",
   "mimetype": "text/x-python",
   "name": "python",
   "nbconvert_exporter": "python",
   "pygments_lexer": "ipython3",
   "version": "3.8.8"
  }
 },
 "nbformat": 4,
 "nbformat_minor": 1
}
